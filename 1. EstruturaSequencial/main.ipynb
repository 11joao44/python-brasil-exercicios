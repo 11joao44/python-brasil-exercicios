{
 "cells": [
  {
   "cell_type": "markdown",
   "metadata": {},
   "source": [
    "# Exercícios com Estrutura Sequencial"
   ]
  },
  {
   "cell_type": "markdown",
   "metadata": {},
   "source": [
    "#### 1. Imprimir \"Olá Mundo\"\n",
    "Faça um Programa que mostre a mensagem **\"Olá mundo\"** na tela."
   ]
  },
  {
   "cell_type": "code",
   "execution_count": null,
   "metadata": {},
   "outputs": [],
   "source": [
    "# Resolvido\n",
    "print('Olá mundo')"
   ]
  },
  {
   "cell_type": "markdown",
   "metadata": {},
   "source": [
    "#### 2. Exibir o número informado\n",
    "Faça um Programa que peça um número e então mostre a mensagem **\"O número informado foi {número}\"**."
   ]
  },
  {
   "cell_type": "code",
   "execution_count": null,
   "metadata": {},
   "outputs": [],
   "source": [
    "# Resolvido\n",
    "número = int(input('Digite um número por favor: '))\n",
    "print(f\"O número informado foi {número}\")"
   ]
  },
  {
   "cell_type": "markdown",
   "metadata": {},
   "source": [
    "#### 3. Soma de dois números\n",
    "Faça um Programa que peça dois números e imprima a **soma** entre eles."
   ]
  },
  {
   "cell_type": "code",
   "execution_count": null,
   "metadata": {},
   "outputs": [],
   "source": [
    "# Resolvido\n",
    "num1 = int(input('Digite o primeiro número da soma: '))\n",
    "num2 = int(input('Digite o segundo número da soma: '))\n",
    "print(f\"A soma de {num1} + {num2} = {num1+num2}\")"
   ]
  },
  {
   "cell_type": "markdown",
   "metadata": {},
   "source": [
    "#### 4. Média das notas bimestrais\n",
    "Faça um Programa que peça as **4 notas bimestrais** e mostre a **média**."
   ]
  },
  {
   "cell_type": "code",
   "execution_count": null,
   "metadata": {},
   "outputs": [],
   "source": [
    "# Resolvido\n",
    "nota1 = float(input('Digite a 1° nota: '))\n",
    "nota2 = float(input('Digite a 2° nota: '))\n",
    "nota3 = float(input('Digite a 3° nota: '))\n",
    "nota4 = float(input('Digite a 4° nota: '))\n",
    "print(f\"Sua média bimestral das 4 notas é {(nota1+nota2+nota3+nota4)/4}\")"
   ]
  },
  {
   "cell_type": "markdown",
   "metadata": {},
   "source": [
    "#### 5. Conversão de metros para centímetros\n",
    "Faça um Programa que converta **metros** para **centímetros**."
   ]
  },
  {
   "cell_type": "code",
   "execution_count": null,
   "metadata": {},
   "outputs": [
    {
     "name": "stdout",
     "output_type": "stream",
     "text": [
      "A conversão de 10.0 metros (m) vira 1000.0 centímetors (cm)\n"
     ]
    }
   ],
   "source": [
    "# Resolvido\n",
    "m = float(input(\"Informe quantos metros deseja converter em centímetros: \"))\n",
    "print(f\"A conversão de {m} metros (m) equivale a {m * 100} centímetros (cm).\")"
   ]
  },
  {
   "cell_type": "markdown",
   "metadata": {},
   "source": [
    "#### 6. Cálculo da área de um círculo\n",
    "Faça um Programa que peça o **raio de um círculo**, calcule e mostre sua **área**.\n",
    "\n",
    "A fórmula: $A = \\pi \\cdot r^2$\n",
    " \n",
    "onde:\n",
    "- A é a área do círculo,\n",
    "- r é o raio do círculo,\n",
    "- π (pi) é aproximadamente 3.14."
   ]
  },
  {
   "cell_type": "code",
   "execution_count": null,
   "metadata": {},
   "outputs": [],
   "source": [
    "# Resolvido\n",
    "r = float(input(\"Digite o raio do círculo: \"))\n",
    "area = 3.14 * (r*r)\n",
    "print(f\"A área do círculo é aproximadamente {area:.2f}\")"
   ]
  },
  {
   "cell_type": "markdown",
   "metadata": {},
   "source": [
    "#### 7. Cálculo da área de um quadrado\n",
    "Faça um Programa que calcule a **área de um quadrado**, em seguida mostre o **dobro desta área** para o usuário.\n",
    "\n",
    "A fórmula para calcular a área de um quadrado \n",
    "\n",
    "**Área** = lado²  \n",
    "**Dobro da Área** = 2 × Área"
   ]
  },
  {
   "cell_type": "code",
   "execution_count": null,
   "metadata": {},
   "outputs": [],
   "source": [
    "# Resolvido\n",
    "lado = float(input(\"Por favor, insira o valor do lado do quadrado: \"))\n",
    "area_quadrado = lado*lado\n",
    "dobro_area = 2 * area_quadrado\n",
    "print(f\"O Dobro desta área de {area_quadrado:.2f} é de {dobro_area:.2f}\")"
   ]
  },
  {
   "cell_type": "markdown",
   "metadata": {},
   "source": [
    "#### 8.1 Cálculo de horas trabalhadas\n",
    "\n",
    "Crie um programa que calcule o total de horas trabalhadas no mês com base nas seguintes informações:\n",
    "\n",
    "- O usuário deve informar o tempo de intervalo (em minutos). ex: 60 caso for 1 hora\n",
    "- O total de horas semanais deve ser calculado e, posteriormente, convertido para o total mensal, considerando uma média de 4.33 semanas por mês.\n",
    "- O programa deve exibir o resultado formatado, mostrando o total de horas trabalhadas no mês.\n",
    "- 4.33 semanas por mês é uma aproximação para um ano comum (365 dias).\n",
    "- Em um ano bissexto (366 dias), a média seria 4.36 semanas por mês.\n",
    "\n",
    "#### **Fórmula para Calcular Horas Trabalhadas no Mês**\n",
    "\n",
    "#### **Cálculo das Horas Diárias**\n",
    "A fórmula para calcular o total de horas trabalhadas por dia é:\n",
    "\n",
    "$$\n",
    "\\text{Total de horas na empresa} = \\text{Saída} - \\text{Entrada}\n",
    "$$\n",
    "\n",
    "Depois, subtraímos o intervalo (em minutos ex: 120 para 2 horas) para calcular as horas trabalhadas efetivamente no dia:\n",
    "\n",
    "#### **Cálculo das Horas Semanais**\n",
    "Para calcular as horas semanais, multiplicamos as horas trabalhadas por dia pelo número de dias trabalhados na semana:\n",
    "\n",
    "#### **Cálculo das Horas Mensais**\n",
    "Finalmente, para calcular as horas mensais, multiplicamos as horas semanais pela quantidade média de semanas por mês (4.33 semanas):\n"
   ]
  },
  {
   "cell_type": "code",
   "execution_count": null,
   "metadata": {},
   "outputs": [
    {
     "name": "stdout",
     "output_type": "stream",
     "text": [
      "888\n"
     ]
    }
   ],
   "source": [
    "semanas_por_mes = 4.33 # ano comun\n",
    "horario_entrada = int(input(\"Digite o horário de entrada (HH:MM): \").replace(':',''))\n",
    "horario_saida = int(input(\"Digite o horário de saída (HH:MM): \").replace(':',''))"
   ]
  },
  {
   "cell_type": "markdown",
   "metadata": {},
   "source": [
    "#### 8. Cálculo do salário mensal\n",
    "Faça um Programa que pergunte quanto você **ganha por hora** e o número de **horas trabalhadas** no mês. Calcule e mostre o **total do seu salário** no referido mês."
   ]
  },
  {
   "cell_type": "code",
   "execution_count": null,
   "metadata": {},
   "outputs": [],
   "source": [
    "ganho_hora = float(input(\"Quanto você ganha por hora: \"))\n",
    "trabalho_hora = float(input(\"Quantas horas você trabalha no mês: \"))\n",
    "salario = ganho_hora * trabalho_hora\n",
    "print(f\"Seu salário mensal é: R$ {salario:.2f}\")"
   ]
  },
  {
   "cell_type": "markdown",
   "metadata": {},
   "source": [
    "#### 9. Conversão de Fahrenheit para Celsius\n",
    "Faça um Programa que peça a temperatura em graus **Fahrenheit**, transforme e mostre a temperatura em graus **Celsius**.\n",
    "Fórmula:  **C = 5 * ((F-32) / 9)**"
   ]
  },
  {
   "cell_type": "code",
   "execution_count": null,
   "metadata": {},
   "outputs": [],
   "source": [
    "# Lógica aqui"
   ]
  },
  {
   "cell_type": "markdown",
   "metadata": {},
   "source": [
    "#### 10. Conversão de Celsius para Fahrenheit\n",
    "Faça um Programa que peça a temperatura em graus **Celsius**, transforme e mostre em graus **Fahrenheit**."
   ]
  },
  {
   "cell_type": "code",
   "execution_count": null,
   "metadata": {},
   "outputs": [],
   "source": [
    "# Lógica aqui"
   ]
  },
  {
   "cell_type": "markdown",
   "metadata": {},
   "source": [
    "#### 11. Cálculo com 2 números inteiros e 1 número real\n",
    "Faça um Programa que peça **2 números inteiros** e **um número real**. Calcule e mostre:\n",
    "- O produto do dobro do primeiro com metade do segundo.\n",
    "- A soma do triplo do primeiro com o terceiro.\n",
    "- O terceiro elevado ao cubo."
   ]
  },
  {
   "cell_type": "code",
   "execution_count": null,
   "metadata": {},
   "outputs": [],
   "source": [
    "# Lógica aqui"
   ]
  },
  {
   "cell_type": "markdown",
   "metadata": {},
   "source": [
    "#### 12. Peso ideal\n",
    "Tendo como dados de entrada a **altura de uma pessoa**, construa um algoritmo que calcule seu **peso ideal**, usando a seguinte fórmula: **(72.7*altura) - 58**"
   ]
  },
  {
   "cell_type": "code",
   "execution_count": null,
   "metadata": {},
   "outputs": [],
   "source": [
    "# Lógica aqui"
   ]
  },
  {
   "cell_type": "markdown",
   "metadata": {},
   "source": [
    "#### 13. Peso ideal (masculino e feminino)\n",
    "Tendo como dado de entrada a **altura** (h) de uma pessoa, construa um algoritmo que calcule seu **peso ideal**, utilizando as seguintes fórmulas:\n",
    "- Para **homens**: **(72.7*h) - 58**\n",
    "- Para **mulheres**: **(62.1*h) - 44.7**"
   ]
  },
  {
   "cell_type": "code",
   "execution_count": null,
   "metadata": {},
   "outputs": [],
   "source": [
    "# Lógica aqui"
   ]
  },
  {
   "cell_type": "markdown",
   "metadata": {},
   "source": [
    "#### 14. Controle de peso de peixe (João Papo-de-Pescador)\n",
    "João Papo-de-Pescador, homem de bem, comprou um microcomputador para controlar o rendimento diário de seu trabalho. Toda vez que ele traz um peso de peixes maior que o estabelecido pelo regulamento de pesca do estado de São Paulo (50 quilos), deve pagar uma multa de R$ 4,00 por quilo excedente. João precisa que você faça um programa que leia a variável **peso** (peso de peixes) e calcule o **excesso**. Gravar na variável excesso a quantidade de quilos além do limite e na variável multa o valor da multa que João deverá pagar. Imprima os dados do programa com as mensagens adequadas."
   ]
  },
  {
   "cell_type": "code",
   "execution_count": null,
   "metadata": {},
   "outputs": [],
   "source": [
    "# Lógica aqui"
   ]
  },
  {
   "cell_type": "markdown",
   "metadata": {},
   "source": [
    "#### 15. Cálculos de salário com descontos\n",
    "Faça um Programa que pergunte quanto você **ganha por hora** e o número de **horas trabalhadas** no mês. Calcule e mostre o **salário bruto**, quanto pagou ao INSS, quanto pagou ao sindicato, e o **salário líquido**, sabendo-se que são descontados:\n",
    "- 11% para o **Imposto de Renda**\n",
    "- 8% para o **INSS**\n",
    "- 5% para o **sindicato**"
   ]
  },
  {
   "cell_type": "code",
   "execution_count": null,
   "metadata": {},
   "outputs": [],
   "source": [
    "# Lógica aqui"
   ]
  },
  {
   "cell_type": "markdown",
   "metadata": {},
   "source": [
    "#### 16. Loja de tintas (cálculo de latas de tinta)\n",
    "Faça um programa para uma **loja de tintas**. O programa deverá pedir o tamanho em metros quadrados da área a ser pintada. Considere que a cobertura da tinta é de **1 litro para cada 3 metros quadrados** e que a tinta é vendida em latas de 18 litros, que custam **R$ 80,00**. Informe ao usuário a quantidade de latas de tinta a serem compradas e o preço total."
   ]
  },
  {
   "cell_type": "code",
   "execution_count": null,
   "metadata": {},
   "outputs": [],
   "source": [
    "# Lógica aqui"
   ]
  },
  {
   "cell_type": "markdown",
   "metadata": {},
   "source": [
    "#### 17. Loja de tintas (opções de latas e galões)\n",
    "Faça um programa para uma **loja de tintas**. O programa deverá pedir o tamanho em metros quadrados da área a ser pintada. Considere que a cobertura da tinta é de **1 litro para cada 6 metros quadrados** e que a tinta é vendida em:\n",
    "- Latas de **18 litros**, que custam **R$ 80,00**;\n",
    "- Galões de **3.6 litros**, que custam **R$ 25,00**.\n",
    "Informe ao usuário as quantidades de tinta a serem compradas e os respectivos preços em 3 situações:\n",
    "- Comprar apenas latas de 18 litros;\n",
    "- Comprar apenas galões de 3,6 litros;\n",
    "- Misturar latas e galões, de forma que o desperdício de tinta seja menor."
   ]
  },
  {
   "cell_type": "code",
   "execution_count": null,
   "metadata": {},
   "outputs": [],
   "source": [
    "# Lógica aqui"
   ]
  },
  {
   "cell_type": "markdown",
   "metadata": {},
   "source": [
    "#### 18. Cálculo de tempo de download\n",
    "Faça um programa que peça o **tamanho de um arquivo para download** (em MB) e a **velocidade de um link de Internet** (em Mbps), calcule e informe o **tempo aproximado de download** do arquivo usando este link (em minutos)."
   ]
  },
  {
   "cell_type": "code",
   "execution_count": null,
   "metadata": {},
   "outputs": [],
   "source": [
    "# Lógica aqui"
   ]
  }
 ],
 "metadata": {
  "kernelspec": {
   "display_name": "base",
   "language": "python",
   "name": "python3"
  },
  "language_info": {
   "codemirror_mode": {
    "name": "ipython",
    "version": 3
   },
   "file_extension": ".py",
   "mimetype": "text/x-python",
   "name": "python",
   "nbconvert_exporter": "python",
   "pygments_lexer": "ipython3",
   "version": "3.11.5"
  }
 },
 "nbformat": 4,
 "nbformat_minor": 2
}
