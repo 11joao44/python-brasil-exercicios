{
 "cells": [
  {
   "cell_type": "markdown",
   "metadata": {},
   "source": [
    "# Exercícios com Estrutura Sequencial"
   ]
  },
  {
   "cell_type": "markdown",
   "metadata": {},
   "source": [
    "#### 1. Imprimir \"Olá Mundo\"\n",
    "Faça um Programa que mostre a mensagem **\"Olá mundo\"** na tela."
   ]
  },
  {
   "cell_type": "code",
   "execution_count": null,
   "metadata": {},
   "outputs": [],
   "source": [
    "# Resolvido\n",
    "print('Olá mundo')"
   ]
  },
  {
   "cell_type": "markdown",
   "metadata": {},
   "source": [
    "#### 2. Exibir o número informado\n",
    "Faça um Programa que peça um número e então mostre a mensagem **\"O número informado foi {número}\"**."
   ]
  },
  {
   "cell_type": "code",
   "execution_count": null,
   "metadata": {},
   "outputs": [],
   "source": [
    "# Resolvido\n",
    "número = int(input('Digite um número por favor: '))\n",
    "print(f\"O número informado foi {número}\")"
   ]
  },
  {
   "cell_type": "markdown",
   "metadata": {},
   "source": [
    "#### 3. Soma de dois números\n",
    "Faça um Programa que peça dois números e imprima a **soma** entre eles."
   ]
  },
  {
   "cell_type": "code",
   "execution_count": null,
   "metadata": {},
   "outputs": [],
   "source": [
    "# Resolvido\n",
    "num1 = int(input('Digite o primeiro número da soma: '))\n",
    "num2 = int(input('Digite o segundo número da soma: '))\n",
    "print(f\"A soma de {num1} + {num2} = {num1+num2}\")"
   ]
  },
  {
   "cell_type": "markdown",
   "metadata": {},
   "source": [
    "#### 4. Média das notas bimestrais\n",
    "Faça um Programa que peça as **4 notas bimestrais** e mostre a **média**."
   ]
  },
  {
   "cell_type": "code",
   "execution_count": null,
   "metadata": {},
   "outputs": [],
   "source": [
    "# Resolvido\n",
    "nota1 = float(input('Digite a 1° nota: '))\n",
    "nota2 = float(input('Digite a 2° nota: '))\n",
    "nota3 = float(input('Digite a 3° nota: '))\n",
    "nota4 = float(input('Digite a 4° nota: '))\n",
    "print(f\"Sua média bimestral das 4 notas é {(nota1+nota2+nota3+nota4)/4}\")"
   ]
  },
  {
   "cell_type": "markdown",
   "metadata": {},
   "source": [
    "#### 5. Conversão de metros para centímetros\n",
    "Faça um Programa que converta **metros** para **centímetros**."
   ]
  },
  {
   "cell_type": "code",
   "execution_count": null,
   "metadata": {},
   "outputs": [
    {
     "name": "stdout",
     "output_type": "stream",
     "text": [
      "A conversão de 10.0 metros (m) vira 1000.0 centímetors (cm)\n"
     ]
    }
   ],
   "source": [
    "# Resolvido\n",
    "m = float(input(\"Informe quantos metros deseja converter em centímetros: \"))\n",
    "print(f\"A conversão de {m} metros (m) equivale a {m * 100} centímetros (cm).\")"
   ]
  },
  {
   "cell_type": "markdown",
   "metadata": {},
   "source": [
    "#### 6. Cálculo da área de um círculo\n",
    "Faça um Programa que peça o **raio de um círculo**, calcule e mostre sua **área**.\n",
    "\n",
    "A fórmula: $A = \\pi \\cdot r^2$\n",
    " \n",
    "onde:\n",
    "- A é a área do círculo,\n",
    "- r é o raio do círculo,\n",
    "- π (pi) é aproximadamente 3.14."
   ]
  },
  {
   "cell_type": "code",
   "execution_count": null,
   "metadata": {},
   "outputs": [],
   "source": [
    "# Resolvido\n",
    "r = float(input(\"Digite o raio do círculo: \"))\n",
    "area = 3.14 * (r*r)\n",
    "print(f\"A área do círculo é aproximadamente {area:.2f}\")"
   ]
  },
  {
   "cell_type": "markdown",
   "metadata": {},
   "source": [
    "#### 7. Cálculo da área de um quadrado\n",
    "Faça um Programa que calcule a **área de um quadrado**, em seguida mostre o **dobro desta área** para o usuário.\n",
    "\n",
    "A fórmula para calcular a área de um quadrado \n",
    "\n",
    "#### Fórmulas:\n",
    "\n",
    "- **Área:**  \n",
    "  $$\n",
    "  \\text{Área} = lado²\n",
    "  $$\n",
    "\n",
    "  **Perímetro:**  \n",
    "  $$\n",
    "  \\text{Dobro da Área} = 2 \\times \\text{Área}\n",
    "  $$"
   ]
  },
  {
   "cell_type": "code",
   "execution_count": null,
   "metadata": {},
   "outputs": [],
   "source": [
    "# Resolvido\n",
    "lado = float(input(\"Por favor, insira o valor do lado do quadrado: \"))\n",
    "area_quadrado = lado*lado\n",
    "dobro_area = 2 * area_quadrado\n",
    "print(f\"O Dobro desta área de {area_quadrado:.2f} é de {dobro_area:.2f}\")"
   ]
  },
  {
   "cell_type": "markdown",
   "metadata": {},
   "source": [
    "#### Exercício: Cálculo da Área e Perímetro de um Retângulo\n",
    "\n",
    "Crie um programa em Python que solicite ao usuário os valores de **largura** e **altura** de um retângulo e, em seguida, calcule e exiba os resultados formatados:\n",
    "\n",
    "- **Área** do retângulo, que será a multiplicação de largura vezes altura.\n",
    "- **Perímetro** do retângulo, que será duas vezes a soma da largura com a altura."
   ]
  },
  {
   "cell_type": "code",
   "execution_count": null,
   "metadata": {},
   "outputs": [],
   "source": [
    "# Resolvido\n",
    "altura = float(input(\"Informe o tamanho da altura: \"))\n",
    "largura = float(input(\"Informe o tamanho da largura: \"))\n",
    "\n",
    "area = largura * altura\n",
    "perimetro = 2 * (largura + altura)\n",
    "\n",
    "print(f\"Área do retângulo: {area:.2f}\")\n",
    "print(f\"Perímetro do retângulo: {perimetro:.2f}\")"
   ]
  },
  {
   "cell_type": "markdown",
   "metadata": {},
   "source": [
    "#### 9. Conversão de Fahrenheit para Celsius\n",
    "Faça um Programa que peça a temperatura em graus **Celsius**, transforme e mostre a temperatura em graus **Fahrenheit**.\n",
    "\n",
    "Fórmula: Para converter uma temperatura de Celsius para Fahrenheit, multiplique o valor em Celsius por 9/5 e, em seguida, some 32"
   ]
  },
  {
   "cell_type": "code",
   "execution_count": null,
   "metadata": {},
   "outputs": [],
   "source": [
    "# Resolvido\n",
    "\n",
    "celsius = float(input(\"Informe a temperatura atual da sua cidade em Celsius: \"))\n",
    "fahrenheit = celsius * 9/5 + 32\n",
    "\n",
    "print(f\"{celsius:.2f}°C equivalem a {fahrenheit:.2f}°F\")"
   ]
  },
  {
   "cell_type": "markdown",
   "metadata": {},
   "source": [
    "#### 10. Conversão de Celsius para Fahrenheit\n",
    "Faça um Programa que peça a temperatura em graus **Fahrenheit**, transforme e mostre em graus **Celsius**.\n",
    "\n",
    "Fórmula: Para converter uma temperatura de Fahrenheit para Celsius, subtraia 32 do valor em Fahrenheit e, em seguida, multiplique o resultado por 5/9."
   ]
  },
  {
   "cell_type": "code",
   "execution_count": null,
   "metadata": {},
   "outputs": [],
   "source": [
    "# Resolvido\n",
    "fahrenheit = float(input(\"Informe a temperatura atual da sua cidade em Fahrenheit: \"))\n",
    "celsius = (fahrenheit - 32) * 5/9\n",
    "print(f\"{fahrenheit:.2f}°F equivalem a {celsius:.2f}°C\")"
   ]
  },
  {
   "cell_type": "markdown",
   "metadata": {},
   "source": [
    "#### 11. Cálculo com 2 números inteiros e 1 número real\n",
    "Faça um Programa que peça **2 números inteiros** e **um número real**. Calcule e mostre:\n",
    "- Multiplique o resultado obtido ao dobrar o primeiro número pelo resultado obtido ao calcular a metade do segundo número.\n",
    "- A soma do triplo do primeiro com o terceiro.\n",
    "- O terceiro elevado ao cubo."
   ]
  },
  {
   "cell_type": "code",
   "execution_count": null,
   "metadata": {},
   "outputs": [],
   "source": [
    "# Resolvido\n",
    "primeiro_inteiro = int(input(\"Digite um número inteiro: \"))\n",
    "segundo_inteiro = int(input(\"Digite outro número inteiro: \"))\n",
    "numero_real = float(input(\"Digite um número real: \"))\n",
    "print(\"Resultado da primeira operação:\", (primeiro_inteiro * 2) * (segundo_inteiro / 2))\n",
    "print(\"Resultado da segunda operação:\", (primeiro_inteiro * 3) + numero_real)\n",
    "print(\"Resultado da terceira operação:\", numero_real ** 3)"
   ]
  },
  {
   "cell_type": "markdown",
   "metadata": {},
   "source": [
    "#### 12. Peso ideal\n",
    "Tendo como dados de entrada a **altura de uma pessoa**, construa um algoritmo que calcule seu **peso ideal**, usando a seguinte fórmula: **(72.7*altura) - 58**"
   ]
  },
  {
   "cell_type": "code",
   "execution_count": null,
   "metadata": {},
   "outputs": [],
   "source": [
    "# Resolvido\n",
    "altura = float(input(\"Qual a sua altura: \"))\n",
    "print(f\"Seu peso idela é de {(72.7*altura) - 58} kg\")"
   ]
  },
  {
   "cell_type": "markdown",
   "metadata": {},
   "source": [
    "#### 13. Peso ideal (masculino e feminino)\n",
    "Tendo como dado de entrada a **altura** (h) de uma pessoa, construa um algoritmo que calcule seu **peso ideal**, utilizando as seguintes fórmulas:\n",
    "- Para **homens**: **(72.7*h) - 58**\n",
    "- Para **mulheres**: **(62.1*h) - 44.7**"
   ]
  },
  {
   "cell_type": "code",
   "execution_count": null,
   "metadata": {},
   "outputs": [],
   "source": [
    "# Resolvido\n",
    "altura = float(input(\"Qual a sua altura: \"))\n",
    "print(f\"Seu peso idela é de {((72.7*altura) - 58):.2f} kg caso for um homen, se for mulher seu peso ideal é de {((62.1*altura) - 44.7):.2f} kg\")"
   ]
  },
  {
   "cell_type": "markdown",
   "metadata": {},
   "source": [
    "#### 14. Controle de peso de peixe (João Papo-de-Pescador)\n",
    "João Papo-de-Pescador, homem de bem, comprou um microcomputador para controlar o rendimento diário de seu trabalho. Toda vez que ele traz um peso de peixes maior que o estabelecido pelo regulamento de pesca do estado de São Paulo (50 quilos), deve pagar uma multa de R$ 4,00 por quilo excedente. João precisa que você faça um programa que leia a variável **peso** (peso de peixes) e calcule o **excesso**. Gravar na variável excesso a quantidade de quilos além do limite e na variável multa o valor da multa que João deverá pagar. Imprima os dados do programa com as mensagens adequadas."
   ]
  },
  {
   "cell_type": "code",
   "execution_count": null,
   "metadata": {},
   "outputs": [],
   "source": [
    "# Resolvido\n",
    "multa = 4.00\n",
    "limite = 50\n",
    "peso_peixe = float(input(\"Digite o peso do peixe: \"))\n",
    "execesso = peso_peixe - limite\n",
    "\n",
    "print(f\"O peso do peixe é: {peso_peixe:.2f} kg que execede o limite de {limite:.2f} kg em {execesso:.2f} e o valor da multa é de R$ {(execesso * multa):.2f}\")"
   ]
  },
  {
   "cell_type": "markdown",
   "metadata": {},
   "source": [
    "#### 15. Cálculos de salário com descontos\n",
    "Faça um Programa que pergunte quanto você **ganha por hora** e o número de **horas trabalhadas** no mês. Calcule e mostre o **salário bruto**, quanto pagou ao INSS, quanto pagou ao sindicato, e o **salário líquido**, sabendo-se que são descontados:\n",
    "- 11% para o **Imposto de Renda**\n",
    "- 8% para o **INSS**\n",
    "- 5% para o **sindicato**"
   ]
  },
  {
   "cell_type": "code",
   "execution_count": null,
   "metadata": {},
   "outputs": [],
   "source": [
    "# Resolvido\n",
    "ganho_hora = float(input('Digite o ganho por hora: '))\n",
    "horas_trabalhadas = float(input('Digite o número de horas trabalhadas no mês: '))\n",
    "salario_bruto = ganho_hora * horas_trabalhadas\n",
    "\n",
    "imposto_renda = salario_bruto * 0.11  # 11% de IR\n",
    "inss = salario_bruto * 0.08  # 8% de INSS\n",
    "sindicato = salario_bruto * 0.05  # 5% para o sindicato\n",
    "\n",
    "salario_liquido = salario_bruto - (imposto_renda + inss + sindicato)\n",
    "\n",
    "print(f\"Salário Bruto: R$ {salario_bruto:.2f}\")\n",
    "print(f\"Imposto de Renda (11%): R$ {imposto_renda:.2f}\")\n",
    "print(f\"INSS (8%): R$ {inss:.2f}\")\n",
    "print(f\"Sindicato (5%): R$ {sindicato:.2f}\")\n",
    "print(f\"Salário Líquido: R$ {salario_liquido:.2f}\")"
   ]
  },
  {
   "cell_type": "markdown",
   "metadata": {},
   "source": [
    "#### 16. Loja de tintas (cálculo de latas de tinta)\n",
    "Faça um programa para uma **loja de tintas**. O programa deverá pedir o tamanho em metros quadrados da área a ser pintada. Considere que a cobertura da tinta é de **1 litro para cada 3 metros quadrados** e que a tinta é vendida em latas de 18 litros, que custam **R$ 80,00**. Informe ao usuário a quantidade de latas de tinta a serem compradas e o preço total."
   ]
  },
  {
   "cell_type": "code",
   "execution_count": null,
   "metadata": {},
   "outputs": [],
   "source": [
    "area_pintura = float(input(\"Digite o tamanho da área a ser pintada em metros quadrados: \"))"
   ]
  },
  {
   "cell_type": "markdown",
   "metadata": {},
   "source": [
    "#### 17. Loja de tintas (opções de latas e galões)\n",
    "Faça um programa para uma **loja de tintas**. O programa deverá pedir o tamanho em metros quadrados da área a ser pintada. Considere que a cobertura da tinta é de **1 litro para cada 6 metros quadrados** e que a tinta é vendida em:\n",
    "- Latas de **18 litros**, que custam **R$ 80,00**;\n",
    "- Galões de **3.6 litros**, que custam **R$ 25,00**.\n",
    "Informe ao usuário as quantidades de tinta a serem compradas e os respectivos preços em 3 situações:\n",
    "- Comprar apenas latas de 18 litros;\n",
    "- Comprar apenas galões de 3,6 litros;\n",
    "- Misturar latas e galões, de forma que o desperdício de tinta seja menor."
   ]
  },
  {
   "cell_type": "code",
   "execution_count": null,
   "metadata": {},
   "outputs": [],
   "source": [
    "# Lógica aqui"
   ]
  },
  {
   "cell_type": "markdown",
   "metadata": {},
   "source": [
    "#### 18. Cálculo de tempo de download\n",
    "Faça um programa que peça o **tamanho de um arquivo para download** (em MB) e a **velocidade de um link de Internet** (em Mbps), calcule e informe o **tempo aproximado de download** do arquivo usando este link (em minutos)."
   ]
  },
  {
   "cell_type": "code",
   "execution_count": null,
   "metadata": {},
   "outputs": [],
   "source": [
    "# Lógica aqui"
   ]
  },
  {
   "cell_type": "markdown",
   "metadata": {},
   "source": [
    "## 19 Cálculo de Horas Trabalhadas\n",
    "\n",
    "Crie um programa que calcule o total de horas trabalhadas em um mês com base nas seguintes informações:\n",
    "\n",
    "1. **Entrada de Dados:**\n",
    "   - Solicite ao usuário o **horário de entrada** e o **horário de saída** (pode ser no formato 24h ou em números decimais, por exemplo: `8` ou `08:00` para 8 horas).\n",
    "   - Solicite o **tempo de intervalo** em minutos (exemplo: `60` para 1 hora).\n",
    "   - Solicite o **número de dias trabalhados na semana**.\n",
    "\n",
    "2. **Processamento:**\n",
    "   - **Cálculo das Horas Diárias:**\n",
    "     - Calcule a diferença entre o horário de saída e o horário de entrada.\n",
    "     - Converta o intervalo de minutos para horas (dividindo por 60) e subtraia esse valor da diferença obtida.\n",
    "     \n",
    "     **Fórmula:**\n",
    "     $$\n",
    "     \\text{Horas Trabalhadas por Dia} = (\\text{Saída} - \\text{Entrada}) - \\frac{\\text{Intervalo (minutos)}}{60}\n",
    "     $$\n",
    "   \n",
    "   - **Cálculo das Horas Semanais:**\n",
    "     - Multiplique as horas diárias pelo número de dias trabalhados na semana.\n",
    "     \n",
    "     **Fórmula:**\n",
    "     $$\n",
    "     \\text{Horas Semanais} = \\text{Horas Diárias} \\times \\text{Dias Trabalhados na Semana}\n",
    "     $$\n",
    "   \n",
    "   - **Cálculo das Horas Mensais:**\n",
    "     - Multiplique as horas semanais por uma média de semanas no mês. Utilize **4.33** semanas para um ano comum (365 dias). (Para anos bissextos, poderia ser 4.36, mas mantenha 4.33 para este exercício.)\n",
    "     \n",
    "     **Fórmula:**\n",
    "     $$\n",
    "     \\text{Horas Mensais} = \\text{Horas Semanais} \\times 4.33\n",
    "     $$\n",
    "\n",
    "3. **Saída:**\n",
    "   - Exiba o total de horas trabalhadas no mês de forma formatada.\n",
    "\n",
    "#### **Exemplo Prático:**\n",
    "\n",
    "- Horário de entrada: 08:00  \n",
    "- Horário de saída: 17:00  \n",
    "- Intervalo: 60 minutos  \n",
    "- Dias trabalhados na semana: 5\n",
    "\n",
    "**Cálculo:**\n",
    "- Horas diárias: (17 - 8) - (60/60) = 9 - 1 = **8 horas**\n",
    "- Horas semanais: 8 horas/dia × 5 dias = **40 horas**\n",
    "- Horas mensais: 40 horas/semana × 4.33 ≈ **173,2 horas**"
   ]
  },
  {
   "cell_type": "code",
   "execution_count": null,
   "metadata": {},
   "outputs": [],
   "source": [
    "# logica aqui"
   ]
  },
  {
   "cell_type": "markdown",
   "metadata": {},
   "source": [
    "#### 20 Cálculo do Salário Mensal\n",
    "\n",
    "Crie um programa que calcule o salário mensal com base nas informações fornecidas:\n",
    "\n",
    "1. **Entrada de Dados:**\n",
    "   - Pergunte ao usuário quanto ele **ganha por hora**.\n",
    "   - Pergunte o **total de horas trabalhadas no mês**.\n",
    "\n",
    "2. **Processamento:**\n",
    "   - Calcule o salário mensal multiplicando o valor ganho por hora pelo total de horas trabalhadas no mês.\n",
    "   \n",
    "   **Fórmula:**\n",
    "   $$\n",
    "   \\text{Salário Mensal} = \\text{Valor por Hora} \\times \\text{Horas Trabalhadas no Mês}\n",
    "   $$\n",
    "\n",
    "3. **Saída:**\n",
    "   - Exiba o resultado do salário mensal de forma formatada.\n",
    "\n",
    "#### **Exemplo Prático:**\n",
    "\n",
    "- Valor ganho por hora: R\\$15,00  \n",
    "- Horas trabalhadas no mês: 173,2 horas\n",
    "\n",
    "**Cálculo:**\n",
    "- Salário mensal: 15 × 173,2 ≈ **R\\$2598,00**"
   ]
  },
  {
   "cell_type": "code",
   "execution_count": null,
   "metadata": {},
   "outputs": [],
   "source": [
    "ganho_hora = float(input(\"Quanto você ganha por hora: \"))\n",
    "trabalho_hora = float(input(\"Quantas horas você trabalha no mês: \"))\n",
    "salario = ganho_hora * trabalho_hora\n",
    "print(f\"Seu salário mensal é: R$ {salario:.2f}\")"
   ]
  }
 ],
 "metadata": {
  "kernelspec": {
   "display_name": "Python 3",
   "language": "python",
   "name": "python3"
  },
  "language_info": {
   "codemirror_mode": {
    "name": "ipython",
    "version": 3
   },
   "file_extension": ".py",
   "mimetype": "text/x-python",
   "name": "python",
   "nbconvert_exporter": "python",
   "pygments_lexer": "ipython3",
   "version": "3.12.7"
  }
 },
 "nbformat": 4,
 "nbformat_minor": 2
}
