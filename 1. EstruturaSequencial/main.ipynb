{
 "cells": [
  {
   "cell_type": "markdown",
   "metadata": {},
   "source": [
    "# Exercícios com Estrutura Sequencial"
   ]
  },
  {
   "cell_type": "markdown",
   "metadata": {},
   "source": [
    "#### 1. Exibir \"Alo Mundo\"\n",
    "Faça um Programa que mostre a mensagem **\"Alo mundo\"** na tela."
   ]
  },
  {
   "cell_type": "code",
   "execution_count": null,
   "metadata": {},
   "outputs": [],
   "source": [
    "# Lógica aqui"
   ]
  },
  {
   "cell_type": "markdown",
   "metadata": {},
   "source": [
    "#### 2. Exibir o número informado\n",
    "Faça um Programa que peça um número e então mostre a mensagem **\"O número informado foi [número]\"**."
   ]
  },
  {
   "cell_type": "code",
   "execution_count": null,
   "metadata": {},
   "outputs": [],
   "source": [
    "# Lógica aqui"
   ]
  },
  {
   "cell_type": "markdown",
   "metadata": {},
   "source": [
    "#### 3. Soma de dois números\n",
    "Faça um Programa que peça dois números e imprima a **soma** entre eles."
   ]
  },
  {
   "cell_type": "code",
   "execution_count": null,
   "metadata": {},
   "outputs": [],
   "source": [
    "# Lógica aqui"
   ]
  },
  {
   "cell_type": "markdown",
   "metadata": {},
   "source": [
    "#### 4. Média das notas bimestrais\n",
    "Faça um Programa que peça as **4 notas bimestrais** e mostre a **média**."
   ]
  },
  {
   "cell_type": "code",
   "execution_count": null,
   "metadata": {},
   "outputs": [],
   "source": [
    "# Lógica aqui"
   ]
  },
  {
   "cell_type": "markdown",
   "metadata": {},
   "source": [
    "#### 5. Conversão de metros para centímetros\n",
    "Faça um Programa que converta **metros** para **centímetros**."
   ]
  },
  {
   "cell_type": "code",
   "execution_count": null,
   "metadata": {},
   "outputs": [],
   "source": [
    "# Lógica aqui"
   ]
  },
  {
   "cell_type": "markdown",
   "metadata": {},
   "source": [
    "#### 6. Cálculo da área de um círculo\n",
    "Faça um Programa que peça o **raio de um círculo**, calcule e mostre sua **área**."
   ]
  },
  {
   "cell_type": "code",
   "execution_count": null,
   "metadata": {},
   "outputs": [],
   "source": [
    "# Lógica aqui"
   ]
  },
  {
   "cell_type": "markdown",
   "metadata": {},
   "source": [
    "#### 7. Cálculo da área de um quadrado\n",
    "Faça um Programa que calcule a **área de um quadrado**, em seguida mostre o **dobro desta área** para o usuário."
   ]
  },
  {
   "cell_type": "code",
   "execution_count": null,
   "metadata": {},
   "outputs": [],
   "source": [
    "# Lógica aqui"
   ]
  },
  {
   "cell_type": "markdown",
   "metadata": {},
   "source": [
    "#### 8. Cálculo do salário mensal\n",
    "Faça um Programa que pergunte quanto você **ganha por hora** e o número de **horas trabalhadas** no mês. Calcule e mostre o **total do seu salário** no referido mês."
   ]
  },
  {
   "cell_type": "code",
   "execution_count": null,
   "metadata": {},
   "outputs": [],
   "source": [
    "# Lógica aqui"
   ]
  },
  {
   "cell_type": "markdown",
   "metadata": {},
   "source": [
    "#### 9. Conversão de Fahrenheit para Celsius\n",
    "Faça um Programa que peça a temperatura em graus **Fahrenheit**, transforme e mostre a temperatura em graus **Celsius**.\n",
    "Fórmula:  **C = 5 * ((F-32) / 9)**"
   ]
  },
  {
   "cell_type": "code",
   "execution_count": null,
   "metadata": {},
   "outputs": [],
   "source": [
    "# Lógica aqui"
   ]
  },
  {
   "cell_type": "markdown",
   "metadata": {},
   "source": [
    "#### 10. Conversão de Celsius para Fahrenheit\n",
    "Faça um Programa que peça a temperatura em graus **Celsius**, transforme e mostre em graus **Fahrenheit**."
   ]
  },
  {
   "cell_type": "code",
   "execution_count": null,
   "metadata": {},
   "outputs": [],
   "source": [
    "# Lógica aqui"
   ]
  },
  {
   "cell_type": "markdown",
   "metadata": {},
   "source": [
    "#### 11. Cálculo com 2 números inteiros e 1 número real\n",
    "Faça um Programa que peça **2 números inteiros** e **um número real**. Calcule e mostre:\n",
    "- O produto do dobro do primeiro com metade do segundo.\n",
    "- A soma do triplo do primeiro com o terceiro.\n",
    "- O terceiro elevado ao cubo."
   ]
  },
  {
   "cell_type": "code",
   "execution_count": null,
   "metadata": {},
   "outputs": [],
   "source": [
    "# Lógica aqui"
   ]
  },
  {
   "cell_type": "markdown",
   "metadata": {},
   "source": [
    "#### 12. Peso ideal\n",
    "Tendo como dados de entrada a **altura de uma pessoa**, construa um algoritmo que calcule seu **peso ideal**, usando a seguinte fórmula: **(72.7*altura) - 58**"
   ]
  },
  {
   "cell_type": "code",
   "execution_count": null,
   "metadata": {},
   "outputs": [],
   "source": [
    "# Lógica aqui"
   ]
  },
  {
   "cell_type": "markdown",
   "metadata": {},
   "source": [
    "#### 13. Peso ideal (masculino e feminino)\n",
    "Tendo como dado de entrada a **altura** (h) de uma pessoa, construa um algoritmo que calcule seu **peso ideal**, utilizando as seguintes fórmulas:\n",
    "- Para **homens**: **(72.7*h) - 58**\n",
    "- Para **mulheres**: **(62.1*h) - 44.7**"
   ]
  },
  {
   "cell_type": "code",
   "execution_count": null,
   "metadata": {},
   "outputs": [],
   "source": [
    "# Lógica aqui"
   ]
  },
  {
   "cell_type": "markdown",
   "metadata": {},
   "source": [
    "#### 14. Controle de peso de peixe (João Papo-de-Pescador)\n",
    "João Papo-de-Pescador, homem de bem, comprou um microcomputador para controlar o rendimento diário de seu trabalho. Toda vez que ele traz um peso de peixes maior que o estabelecido pelo regulamento de pesca do estado de São Paulo (50 quilos), deve pagar uma multa de R$ 4,00 por quilo excedente. João precisa que você faça um programa que leia a variável **peso** (peso de peixes) e calcule o **excesso**. Gravar na variável excesso a quantidade de quilos além do limite e na variável multa o valor da multa que João deverá pagar. Imprima os dados do programa com as mensagens adequadas."
   ]
  },
  {
   "cell_type": "code",
   "execution_count": null,
   "metadata": {},
   "outputs": [],
   "source": [
    "# Lógica aqui"
   ]
  },
  {
   "cell_type": "markdown",
   "metadata": {},
   "source": [
    "#### 15. Cálculos de salário com descontos\n",
    "Faça um Programa que pergunte quanto você **ganha por hora** e o número de **horas trabalhadas** no mês. Calcule e mostre o **salário bruto**, quanto pagou ao INSS, quanto pagou ao sindicato, e o **salário líquido**, sabendo-se que são descontados:\n",
    "- 11% para o **Imposto de Renda**\n",
    "- 8% para o **INSS**\n",
    "- 5% para o **sindicato**"
   ]
  },
  {
   "cell_type": "code",
   "execution_count": null,
   "metadata": {},
   "outputs": [],
   "source": [
    "# Lógica aqui"
   ]
  },
  {
   "cell_type": "markdown",
   "metadata": {},
   "source": [
    "#### 16. Loja de tintas (cálculo de latas de tinta)\n",
    "Faça um programa para uma **loja de tintas**. O programa deverá pedir o tamanho em metros quadrados da área a ser pintada. Considere que a cobertura da tinta é de **1 litro para cada 3 metros quadrados** e que a tinta é vendida em latas de 18 litros, que custam **R$ 80,00**. Informe ao usuário a quantidade de latas de tinta a serem compradas e o preço total."
   ]
  },
  {
   "cell_type": "code",
   "execution_count": null,
   "metadata": {},
   "outputs": [],
   "source": [
    "# Lógica aqui"
   ]
  },
  {
   "cell_type": "markdown",
   "metadata": {},
   "source": [
    "#### 17. Loja de tintas (opções de latas e galões)\n",
    "Faça um programa para uma **loja de tintas**. O programa deverá pedir o tamanho em metros quadrados da área a ser pintada. Considere que a cobertura da tinta é de **1 litro para cada 6 metros quadrados** e que a tinta é vendida em:\n",
    "- Latas de **18 litros**, que custam **R$ 80,00**;\n",
    "- Galões de **3.6 litros**, que custam **R$ 25,00**.\n",
    "Informe ao usuário as quantidades de tinta a serem compradas e os respectivos preços em 3 situações:\n",
    "- Comprar apenas latas de 18 litros;\n",
    "- Comprar apenas galões de 3,6 litros;\n",
    "- Misturar latas e galões, de forma que o desperdício de tinta seja menor."
   ]
  },
  {
   "cell_type": "code",
   "execution_count": null,
   "metadata": {},
   "outputs": [],
   "source": [
    "# Lógica aqui"
   ]
  },
  {
   "cell_type": "markdown",
   "metadata": {},
   "source": [
    "#### 18. Cálculo de tempo de download\n",
    "Faça um programa que peça o **tamanho de um arquivo para download** (em MB) e a **velocidade de um link de Internet** (em Mbps), calcule e informe o **tempo aproximado de download** do arquivo usando este link (em minutos)."
   ]
  },
  {
   "cell_type": "code",
   "execution_count": null,
   "metadata": {},
   "outputs": [],
   "source": [
    "# Lógica aqui"
   ]
  }
 ],
 "metadata": {
  "kernelspec": {
   "display_name": "Python 3",
   "language": "python",
   "name": "python3"
  },
  "language_info": {
   "name": "python",
   "version": "3.12.7"
  }
 },
 "nbformat": 4,
 "nbformat_minor": 2
}
