{
 "cells": [
  {
   "cell_type": "markdown",
   "metadata": {},
   "source": [
    "# Exercícios com Estrutura de Repetição"
   ]
  },
  {
   "cell_type": "markdown",
   "metadata": {},
   "source": [
    "#### 1. Validação de nota\n",
    "Faça um programa que peça uma nota, entre zero e dez. Mostre uma mensagem caso o valor seja inválido e continue pedindo até que o usuário informe um valor válido."
   ]
  },
  {
   "cell_type": "code",
   "execution_count": null,
   "metadata": {},
   "outputs": [],
   "source": [
    "# Lógica aqui"
   ]
  },
  {
   "cell_type": "markdown",
   "metadata": {},
   "source": [
    "#### 2. Validação de usuário e senha\n",
    "Faça um programa que leia um nome de usuário e a sua senha e não aceite a senha igual ao nome do usuário, mostrando uma mensagem de erro e voltando a pedir as informações."
   ]
  },
  {
   "cell_type": "code",
   "execution_count": null,
   "metadata": {},
   "outputs": [],
   "source": [
    "# Lógica aqui"
   ]
  },
  {
   "cell_type": "markdown",
   "metadata": {},
   "source": [
    "#### 3. Validação de informações\n",
    "Faça um programa que leia e valide as seguintes informações:\n",
    "- Nome: maior que 3 caracteres;\n",
    "- Idade: entre 0 e 150;\n",
    "- Salário: maior que zero;\n",
    "- Sexo: 'f' ou 'm';\n",
    "- Estado Civil: 's', 'c', 'v', 'd'."
   ]
  },
  {
   "cell_type": "code",
   "execution_count": null,
   "metadata": {},
   "outputs": [],
   "source": [
    "# Lógica aqui"
   ]
  },
  {
   "cell_type": "markdown",
   "metadata": {},
   "source": [
    "#### 4. Crescimento populacional\n",
    "Supondo que a população de um país A seja de 80.000 habitantes com uma taxa de crescimento de 3% ao ano e que a população de B seja de 200.000 habitantes com uma taxa de 1,5%, faça um programa que calcule quantos anos serão necessários para que A ultrapasse ou iguale B."
   ]
  },
  {
   "cell_type": "code",
   "execution_count": null,
   "metadata": {},
   "outputs": [],
   "source": [
    "# Lógica aqui"
   ]
  },
  {
   "cell_type": "markdown",
   "metadata": {},
   "source": [
    "#### 5. Crescimento populacional com entrada do usuário\n",
    "Altere o programa anterior permitindo que o usuário informe as populações e as taxas de crescimento iniciais. Valide a entrada e permita repetir a operação."
   ]
  },
  {
   "cell_type": "code",
   "execution_count": null,
   "metadata": {},
   "outputs": [],
   "source": [
    "# Lógica aqui"
   ]
  },
  {
   "cell_type": "markdown",
   "metadata": {},
   "source": [
    "#### 6. Impressão de números de 1 a 20\n",
    "Faça um programa que imprima na tela os números de 1 a 20, um abaixo do outro. Depois, modifique para que os números apareçam um ao lado do outro."
   ]
  },
  {
   "cell_type": "code",
   "execution_count": null,
   "metadata": {},
   "outputs": [],
   "source": [
    "# Lógica aqui"
   ]
  },
  {
   "cell_type": "markdown",
   "metadata": {},
   "source": [
    "#### 7. Maior número\n",
    "Faça um programa que leia 5 números e informe o maior número."
   ]
  },
  {
   "cell_type": "code",
   "execution_count": null,
   "metadata": {},
   "outputs": [],
   "source": [
    "# Lógica aqui"
   ]
  },
  {
   "cell_type": "markdown",
   "metadata": {},
   "source": [
    "#### 8. Soma e média de 5 números\n",
    "Faça um programa que leia 5 números e informe a soma e a média deles."
   ]
  },
  {
   "cell_type": "code",
   "execution_count": null,
   "metadata": {},
   "outputs": [],
   "source": [
    "# Lógica aqui"
   ]
  },
  {
   "cell_type": "markdown",
   "metadata": {},
   "source": [
    "#### 9. Números ímpares entre 1 e 50\n",
    "Faça um programa que imprima na tela apenas os números ímpares entre 1 e 50."
   ]
  },
  {
   "cell_type": "code",
   "execution_count": null,
   "metadata": {},
   "outputs": [],
   "source": [
    "# Lógica aqui"
   ]
  },
  {
   "cell_type": "markdown",
   "metadata": {},
   "source": [
    "#### 10. Intervalo de números\n",
    "Faça um programa que receba dois números inteiros e gere os números inteiros que estão no intervalo entre eles."
   ]
  },
  {
   "cell_type": "code",
   "execution_count": null,
   "metadata": {},
   "outputs": [],
   "source": [
    "# Lógica aqui"
   ]
  },
  {
   "cell_type": "markdown",
   "metadata": {},
   "source": [
    "#### 11. Intervalo de números com soma\n",
    "Altere o programa anterior para, além de listar os números, mostrar a soma deles no final."
   ]
  },
  {
   "cell_type": "code",
   "execution_count": null,
   "metadata": {},
   "outputs": [],
   "source": [
    "# Lógica aqui"
   ]
  },
  {
   "cell_type": "markdown",
   "metadata": {},
   "source": [
    "#### 12. Gerador de tabuada\n",
    "Desenvolva um programa que gere a tabuada de um número inteiro (de 1 a 10). O usuário informa o número e a saída deve ser, por exemplo:\n",
    "\n",
    "Tabuada de 5:\n",
    "5 X 1 = 5\n",
    "5 X 2 = 10\n",
    "...\n",
    "5 X 10 = 50"
   ]
  },
  {
   "cell_type": "code",
   "execution_count": null,
   "metadata": {},
   "outputs": [],
   "source": [
    "# Lógica aqui"
   ]
  },
  {
   "cell_type": "markdown",
   "metadata": {},
   "source": [
    "#### 13. Potenciação sem função de potência\n",
    "Faça um programa que peça dois números (base e expoente) e exiba o resultado da potência sem utilizar a função de potência da linguagem."
   ]
  },
  {
   "cell_type": "code",
   "execution_count": null,
   "metadata": {},
   "outputs": [],
   "source": [
    "# Lógica aqui"
   ]
  },
  {
   "cell_type": "markdown",
   "metadata": {},
   "source": [
    "#### 14. Contagem de pares e ímpares\n",
    "Faça um programa que peça 10 números inteiros e informe quantos são pares e quantos são ímpares."
   ]
  },
  {
   "cell_type": "code",
   "execution_count": null,
   "metadata": {},
   "outputs": [],
   "source": [
    "# Lógica aqui"
   ]
  },
  {
   "cell_type": "markdown",
   "metadata": {},
   "source": [
    "#### 15. Série de Fibonacci (iniciando em 1)\n",
    "A série de Fibonacci é: 1, 1, 2, 3, 5, 8, 13, …\n",
    "Crie um programa que gere a série até o n-ésimo termo."
   ]
  },
  {
   "cell_type": "code",
   "execution_count": null,
   "metadata": {},
   "outputs": [],
   "source": [
    "# Lógica aqui"
   ]
  },
  {
   "cell_type": "markdown",
   "metadata": {},
   "source": [
    "#### 16. Série de Fibonacci (até maior que 500)\n",
    "A série de Fibonacci é: 0, 1, 1, 2, 3, 5, 8, …\n",
    "Crie um programa que gere a série até que o valor seja maior que 500."
   ]
  },
  {
   "cell_type": "code",
   "execution_count": null,
   "metadata": {},
   "outputs": [],
   "source": [
    "# Lógica aqui"
   ]
  },
  {
   "cell_type": "markdown",
   "metadata": {},
   "source": [
    "#### 17. Fatorial de um número\n",
    "Faça um programa que calcule o fatorial de um número inteiro fornecido pelo usuário. Exemplo: 5! = 5 x 4 x 3 x 2 x 1 = 120"
   ]
  },
  {
   "cell_type": "code",
   "execution_count": null,
   "metadata": {},
   "outputs": [],
   "source": [
    "# Lógica aqui"
   ]
  },
  {
   "cell_type": "markdown",
   "metadata": {},
   "source": [
    "#### 18. Estatísticas de um conjunto de números\n",
    "Faça um programa que, dado um conjunto de N números, determine o menor valor, o maior valor e a soma dos valores."
   ]
  },
  {
   "cell_type": "code",
   "execution_count": null,
   "metadata": {},
   "outputs": [],
   "source": [
    "# Lógica aqui"
   ]
  },
  {
   "cell_type": "markdown",
   "metadata": {},
   "source": [
    "#### 19. Estatísticas com validação\n",
    "Altere o programa anterior para que ele aceite apenas números entre 0 e 1000."
   ]
  },
  {
   "cell_type": "code",
   "execution_count": null,
   "metadata": {},
   "outputs": [],
   "source": [
    "# Lógica aqui"
   ]
  },
  {
   "cell_type": "markdown",
   "metadata": {},
   "source": [
    "#### 20. Fatorial com repetição e limite\n",
    "Altere o programa de cálculo do fatorial permitindo que o usuário calcule vários fatoriais, limitando a entrada a números inteiros positivos menores que 16."
   ]
  },
  {
   "cell_type": "code",
   "execution_count": null,
   "metadata": {},
   "outputs": [],
   "source": [
    "# Lógica aqui"
   ]
  },
  {
   "cell_type": "markdown",
   "metadata": {},
   "source": [
    "#### 21. Verificação de número primo\n",
    "Faça um programa que peça um número inteiro e verifique se ele é primo (divisível apenas por 1 e por ele mesmo)."
   ]
  },
  {
   "cell_type": "code",
   "execution_count": null,
   "metadata": {},
   "outputs": [],
   "source": [
    "# Lógica aqui"
   ]
  },
  {
   "cell_type": "markdown",
   "metadata": {},
   "source": [
    "#### 22. Divisores de número não primo\n",
    "Modifique o programa de números primos para, se o número não for primo, informar por quais números ele é divisível."
   ]
  },
  {
   "cell_type": "code",
   "execution_count": null,
   "metadata": {},
   "outputs": [],
   "source": [
    "# Lógica aqui"
   ]
  },
  {
   "cell_type": "markdown",
   "metadata": {},
   "source": [
    "#### 23. Números primos e contagem de divisões\n",
    "Faça um programa que liste todos os números primos entre 1 e N (número informado pelo usuário) e mostre também o número de divisões realizadas para encontrar esses primos."
   ]
  },
  {
   "cell_type": "code",
   "execution_count": null,
   "metadata": {},
   "outputs": [],
   "source": [
    "# Lógica aqui"
   ]
  },
  {
   "cell_type": "markdown",
   "metadata": {},
   "source": [
    "#### 24. Média aritmética de N notas\n",
    "Faça um programa que calcule e mostre a média aritmética de N notas."
   ]
  },
  {
   "cell_type": "code",
   "execution_count": null,
   "metadata": {},
   "outputs": [],
   "source": [
    "# Lógica aqui"
   ]
  },
  {
   "cell_type": "markdown",
   "metadata": {},
   "source": [
    "#### 25. Classificação da turma por idade\n",
    "Peça a idade de n pessoas e, ao final, verifique se a média da turma está entre 0 e 25, entre 26 e 60 ou acima de 60, classificando-a como jovem, adulta ou idosa."
   ]
  },
  {
   "cell_type": "code",
   "execution_count": null,
   "metadata": {},
   "outputs": [],
   "source": [
    "# Lógica aqui"
   ]
  },
  {
   "cell_type": "markdown",
   "metadata": {},
   "source": [
    "#### 26. Votação entre três candidatos\n",
    "Em uma eleição com três candidatos, peça o número total de eleitores, registre o voto de cada um e mostre o total de votos por candidato."
   ]
  },
  {
   "cell_type": "code",
   "execution_count": null,
   "metadata": {},
   "outputs": [],
   "source": [
    "# Lógica aqui"
   ]
  },
  {
   "cell_type": "markdown",
   "metadata": {},
   "source": [
    "#### 27. Média de alunos por turma\n",
    "Faça um programa que, pedindo a quantidade de turmas e o número de alunos de cada turma (com limite de 40 alunos por turma), calcule a média de alunos por turma."
   ]
  },
  {
   "cell_type": "code",
   "execution_count": null,
   "metadata": {},
   "outputs": [],
   "source": [
    "# Lógica aqui"
   ]
  },
  {
   "cell_type": "markdown",
   "metadata": {},
   "source": [
    "#### 28. Investimento em CDs\n",
    "Calcule o valor total investido por um colecionador em sua coleção de CDs e o valor médio gasto por CD. O usuário informa a quantidade e o valor de cada CD."
   ]
  },
  {
   "cell_type": "code",
   "execution_count": null,
   "metadata": {},
   "outputs": [],
   "source": [
    "# Lógica aqui"
   ]
  },
  {
   "cell_type": "markdown",
   "metadata": {},
   "source": [
    "#### 29. Tabela de preços – Lojas Quase Dois\n",
    "O Sr. Manoel Joaquim possui uma loja de artigos a R$ 1,99. Desenvolva um programa que monte uma tabela de preços para 1 a 50 produtos, conforme o exemplo:\n",
    "\n",
    "1 - R$ 1.99\n",
    "2 - R$ 3.98\n",
    "...\n",
    "50 - R$ 99.50"
   ]
  },
  {
   "cell_type": "code",
   "execution_count": null,
   "metadata": {},
   "outputs": [],
   "source": [
    "# Lógica aqui"
   ]
  },
  {
   "cell_type": "markdown",
   "metadata": {},
   "source": [
    "#### 30. Tabela de preços – Panificadora\n",
    "O Sr. Manoel Joaquim adquiriu uma panificadora e deseja implantar a \"tabelinha\". Peça o preço do pão e monte uma tabela para 1 a 50 pães, conforme o exemplo:\n",
    "\n",
    "Preço do pão: R$ 0.18\n",
    "1 - R$ 0.18\n",
    "2 - R$ 0.36\n",
    "...\n",
    "50 - R$ 9.00"
   ]
  },
  {
   "cell_type": "code",
   "execution_count": null,
   "metadata": {},
   "outputs": [],
   "source": [
    "# Lógica aqui"
   ]
  },
  {
   "cell_type": "markdown",
   "metadata": {},
   "source": [
    "#### 31. Caixa registradora – Lojas Tabajara\n",
    "Crie um programa que receba valores referentes aos preços das mercadorias (um valor 0 indica o fim da compra), some-os, solicite o valor pago pelo cliente e informe o troco, conforme o exemplo:\n",
    "\n",
    "Produto 1: R$ 2.20\n",
    "Produto 2: R$ 5.80\n",
    "Produto 3: R$ 0\n",
    "Total: R$ 9.00\n",
    "Dinheiro: R$ 20.00\n",
    "Troco: R$ 11.00"
   ]
  },
  {
   "cell_type": "code",
   "execution_count": null,
   "metadata": {},
   "outputs": [],
   "source": [
    "# Lógica aqui"
   ]
  },
  {
   "cell_type": "markdown",
   "metadata": {},
   "source": [
    "#### 32. Fatorial com formatação\n",
    "Faça um programa que calcule o fatorial de um número e exiba o cálculo formatado. Exemplo:\n",
    "\n",
    "Fatorial de: 5\n",
    "5! = 5 . 4 . 3 . 2 . 1 = 120"
   ]
  },
  {
   "cell_type": "code",
   "execution_count": null,
   "metadata": {},
   "outputs": [],
   "source": [
    "# Lógica aqui"
   ]
  },
  {
   "cell_type": "markdown",
   "metadata": {},
   "source": [
    "#### 33. Estatísticas de temperaturas\n",
    "Desenvolva um programa que leia um conjunto indeterminado de temperaturas e informe a menor, a maior e a média das temperaturas."
   ]
  },
  {
   "cell_type": "code",
   "execution_count": null,
   "metadata": {},
   "outputs": [],
   "source": [
    "# Lógica aqui"
   ]
  },
  {
   "cell_type": "markdown",
   "metadata": {},
   "source": [
    "#### 34. Verificação de número primo (repetição)\n",
    "Faça um programa que peça um número inteiro e determine se ele é primo (atenção para aplicações em criptografia)."
   ]
  },
  {
   "cell_type": "code",
   "execution_count": null,
   "metadata": {},
   "outputs": [],
   "source": [
    "# Lógica aqui"
   ]
  },
  {
   "cell_type": "markdown",
   "metadata": {},
   "source": [
    "#### 35. Lista de números primos\n",
    "Crie um programa que gere uma lista dos números primos existentes entre 1 e um número inteiro informado pelo usuário."
   ]
  },
  {
   "cell_type": "code",
   "execution_count": null,
   "metadata": {},
   "outputs": [],
   "source": [
    "# Lógica aqui"
   ]
  },
  {
   "cell_type": "markdown",
   "metadata": {},
   "source": [
    "#### 36. Tabuada com intervalo personalizado\n",
    "Desenvolva um programa que gere a tabuada de um número inteiro informado pelo usuário, mas onde o multiplicador inicia e termina em valores definidos também pelo usuário. Exemplo:\n",
    "\n",
    "Montar a tabuada de: 5\n",
    "Começar por: 4\n",
    "Terminar em: 7\n",
    "\n",
    "(Verifique se o valor final não é menor que o inicial.)"
   ]
  },
  {
   "cell_type": "code",
   "execution_count": null,
   "metadata": {},
   "outputs": [],
   "source": [
    "# Lógica aqui"
   ]
  },
  {
   "cell_type": "markdown",
   "metadata": {},
   "source": [
    "#### 37. Senso na academia\n",
    "Crie um programa que pergunte, para cada cliente de uma academia, seu código, altura e peso. A entrada termina quando o código for 0. Ao final, informe os dados do cliente mais alto, mais baixo, mais gordo e mais magro, além da média de alturas e pesos."
   ]
  },
  {
   "cell_type": "code",
   "execution_count": null,
   "metadata": {},
   "outputs": [],
   "source": [
    "# Lógica aqui"
   ]
  },
  {
   "cell_type": "markdown",
   "metadata": {},
   "source": [
    "#### 38. Aumento salarial\n",
    "Um funcionário foi contratado em 1995 com salário de R$ 1.000,00. Em 1996, recebeu aumento de 1,5% e, a partir de 1997, os aumentos dobram o percentual do ano anterior. Faça um programa que calcule o salário atual. Em seguida, permita que o usuário informe o salário inicial."
   ]
  },
  {
   "cell_type": "code",
   "execution_count": null,
   "metadata": {},
   "outputs": [],
   "source": [
    "# Lógica aqui"
   ]
  },
  {
   "cell_type": "markdown",
   "metadata": {},
   "source": [
    "#### 39. Aluno mais alto e mais baixo\n",
    "Leia dez conjuntos com o número do aluno e sua altura (em cm). Determine e mostre o aluno mais alto e o mais baixo, informando seus números e alturas."
   ]
  },
  {
   "cell_type": "code",
   "execution_count": null,
   "metadata": {},
   "outputs": [],
   "source": [
    "# Lógica aqui"
   ]
  },
  {
   "cell_type": "markdown",
   "metadata": {},
   "source": [
    "#### 40. Estatísticas de acidentes de trânsito\n",
    "Utilizando dados de 5 cidades (código, número de veículos em 1999 e número de acidentes com vítimas em 1999), informe:\n",
    "- Qual cidade teve o maior e o menor índice de acidentes;\n",
    "- A média de veículos nas cidades;\n",
    "- A média de acidentes nas cidades com menos de 2.000 veículos de passeio."
   ]
  },
  {
   "cell_type": "code",
   "execution_count": null,
   "metadata": {},
   "outputs": [],
   "source": [
    "# Lógica aqui"
   ]
  },
  {
   "cell_type": "markdown",
   "metadata": {},
   "source": [
    "#### 41. Tabela de dívida\n",
    "Faça um programa que receba o valor de uma dívida e mostre uma tabela contendo:\n",
    "- Valor da dívida\n",
    "- Valor dos juros (conforme a tabela abaixo)\n",
    "- Quantidade de parcelas\n",
    "- Valor da parcela\n",
    "\n",
    "Tabela de juros:\n",
    "1 parcela: 0%\n",
    "3 parcelas: 10%\n",
    "6 parcelas: 15%\n",
    "9 parcelas: 20%\n",
    "12 parcelas: 25%\n",
    "\n",
    "Exemplo:\n",
    "Valor: R$ 1.000,00  → 1 parcela → R$ 1.000,00\n",
    "Valor: R$ 1.100,00  → 3 parcelas → R$ 366,00 (aprox.)"
   ]
  },
  {
   "cell_type": "code",
   "execution_count": null,
   "metadata": {},
   "outputs": [],
   "source": [
    "# Lógica aqui"
   ]
  },
  {
   "cell_type": "markdown",
   "metadata": {},
   "source": [
    "#### 42. Contagem de números em intervalos\n",
    "Leia uma quantidade indeterminada de números positivos e conte quantos estão nos intervalos: [0-25], [26-50], [51-75] e [76-100]. A leitura termina ao informar um número negativo."
   ]
  },
  {
   "cell_type": "code",
   "execution_count": null,
   "metadata": {},
   "outputs": [],
   "source": [
    "# Lógica aqui"
   ]
  },
  {
   "cell_type": "markdown",
   "metadata": {},
   "source": [
    "#### 43. Lanchonete – Pedido\n",
    "Utilizando o seguinte cardápio:\n",
    "  - Cachorro Quente (100) – R$ 1,20\n",
    "  - Bauru Simples (101) – R$ 1,30\n",
    "  - Bauru com ovo (102) – R$ 1,50\n",
    "  - Hambúrguer (103) – R$ 1,20\n",
    "  - Cheeseburguer (104) – R$ 1,30\n",
    "  - Refrigerante (105) – R$ 1,00\n",
    "\n",
    "Faça um programa que leia o código e a quantidade dos itens pedidos, calcule e mostre o valor a ser pago por item e o total geral do pedido. A entrada deve permitir o encerramento do pedido."
   ]
  },
  {
   "cell_type": "code",
   "execution_count": null,
   "metadata": {},
   "outputs": [],
   "source": [
    "# Lógica aqui"
   ]
  },
  {
   "cell_type": "markdown",
   "metadata": {},
   "source": [
    "#### 44. Eleição presidencial\n",
    "Em uma eleição com quatro candidatos, os votos são informados pelos códigos:\n",
    "  - 1, 2, 3, 4: votos para os respectivos candidatos\n",
    "  - 5: voto nulo\n",
    "  - 6: voto em branco\n",
    "\n",
    "Faça um programa que calcule e mostre:\n",
    "- Total de votos para cada candidato\n",
    "- Total de votos nulos e em branco\n",
    "- Percentual de votos nulos e em branco em relação ao total\n",
    "\n",
    "A entrada termina com o valor 0."
   ]
  },
  {
   "cell_type": "code",
   "execution_count": null,
   "metadata": {},
   "outputs": [],
   "source": [
    "# Lógica aqui"
   ]
  },
  {
   "cell_type": "markdown",
   "metadata": {},
   "source": [
    "#### 45. Correção de prova\n",
    "Desenvolva um programa que:\n",
    "- Pergunte ao aluno a resposta de 10 questões;\n",
    "- Compare com o gabarito (fixo ou digitado pelo professor);\n",
    "- Calcule o total de acertos (1 ponto por resposta correta);\n",
    "\n",
    "Após cada aluno, pergunte se outro utilizará o sistema. Ao final, informe:\n",
    "- Maior e menor acerto\n",
    "- Total de alunos\n",
    "- Média das notas da turma\n",
    "\n",
    "Gabarito exemplo:\n",
    "01 - A\n",
    "02 - B\n",
    "03 - C\n",
    "04 - D\n",
    "05 - E\n",
    "06 - E\n",
    "07 - D\n",
    "08 - C\n",
    "09 - B\n",
    "10 - A"
   ]
  },
  {
   "cell_type": "code",
   "execution_count": null,
   "metadata": {},
   "outputs": [],
   "source": [
    "# Lógica aqui"
   ]
  },
  {
   "cell_type": "markdown",
   "metadata": {},
   "source": [
    "#### 46. Competição de salto em distância\n",
    "Cada atleta tem 5 saltos. Descarte o melhor e o pior, calcule a média dos 3 saltos restantes e exiba o resultado. O programa deve encerrar quando não for informado o nome do atleta.\n",
    "\n",
    "Exemplo de saída:\n",
    "Atleta: Rodrigo Curvêllo\n",
    "Primeiro Salto: 6.5 m\n",
    "Segundo Salto: 6.1 m\n",
    "Terceiro Salto: 6.2 m\n",
    "Quarto Salto: 5.4 m\n",
    "Quinto Salto: 5.3 m\n",
    "\n",
    "Melhor salto: 6.5 m\n",
    "Pior salto: 5.3 m\n",
    "Média: 5.9 m"
   ]
  },
  {
   "cell_type": "code",
   "execution_count": null,
   "metadata": {},
   "outputs": [],
   "source": [
    "# Lógica aqui"
   ]
  },
  {
   "cell_type": "markdown",
   "metadata": {},
   "source": [
    "#### 47. Competição de ginástica\n",
    "Cada atleta recebe 7 notas de jurados. Descarte a maior e a menor nota e calcule a média das restantes. Exiba o resultado conforme o exemplo:\n",
    "\n",
    "Atleta: Aparecido Parente\n",
    "Notas: 9.9, 7.5, 9.5, 8.5, 9.0, 8.5, 9.7\n",
    "\n",
    "Melhor nota: 9.9\n",
    "Pior nota: 7.5\n",
    "Média: 9,04"
   ]
  },
  {
   "cell_type": "code",
   "execution_count": null,
   "metadata": {},
   "outputs": [],
   "source": [
    "# Lógica aqui"
   ]
  },
  {
   "cell_type": "markdown",
   "metadata": {},
   "source": [
    "#### 48. Número invertido\n",
    "Faça um programa que peça um número inteiro positivo e o exiba invertido.\n",
    "\n",
    "Exemplo:\n",
    "12376489 => 98467321"
   ]
  },
  {
   "cell_type": "code",
   "execution_count": null,
   "metadata": {},
   "outputs": [],
   "source": [
    "# Lógica aqui"
   ]
  },
  {
   "cell_type": "markdown",
   "metadata": {},
   "source": [
    "#### 49. Série com frações\n",
    "Mostre os n termos da seguinte série:\n",
    "S = 1/1 + 2/3 + 3/5 + 4/7 + 5/9 + ... + n/m\n",
    "Ao final, imprima a soma da série."
   ]
  },
  {
   "cell_type": "code",
   "execution_count": null,
   "metadata": {},
   "outputs": [],
   "source": [
    "# Lógica aqui"
   ]
  },
  {
   "cell_type": "markdown",
   "metadata": {},
   "source": [
    "#### 50. Série Harmônica\n",
    "Sendo H = 1 + 1/2 + 1/3 + ... + 1/N, faça um programa que calcule o valor de H para N termos."
   ]
  },
  {
   "cell_type": "code",
   "execution_count": null,
   "metadata": {},
   "outputs": [],
   "source": [
    "# Lógica aqui"
   ]
  },
  {
   "cell_type": "markdown",
   "metadata": {},
   "source": [
    "#### 51. Série com frações (repetição)\n",
    "Repita o programa que mostra os n termos da série:\n",
    "S = 1/1 + 2/3 + 3/5 + ... + n/m\n",
    "e imprima a soma da série."
   ]
  },
  {
   "cell_type": "code",
   "execution_count": null,
   "metadata": {},
   "outputs": [],
   "source": [
    "# Lógica aqui"
   ]
  }
 ],
 "metadata": {
  "kernelspec": {
   "display_name": "Python 3",
   "language": "python",
   "name": "python3"
  },
  "language_info": {
   "file_extension": ".py",
   "mimetype": "text/x-python",
   "name": "python",
   "version": "3.x"
  }
 },
 "nbformat": 4,
 "nbformat_minor": 5
}
