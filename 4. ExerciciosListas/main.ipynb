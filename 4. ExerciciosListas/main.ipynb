{
 "cells": [
  {
   "cell_type": "markdown",
   "id": "dab87f23",
   "metadata": {},
   "source": [
    "# Exercícios com Vetores, Listas e Arrays"
   ]
  },
  {
   "cell_type": "markdown",
   "id": "80f7f58a",
   "metadata": {},
   "source": [
    "#### 1. Vetor de 5 números inteiros\n",
    "Faça um Programa que leia um vetor de 5 números inteiros e mostre-os."
   ]
  },
  {
   "cell_type": "code",
   "execution_count": null,
   "id": "3e217524",
   "metadata": {},
   "outputs": [],
   "source": [
    "# Lógica aqui"
   ]
  },
  {
   "cell_type": "markdown",
   "id": "4b4a83c4",
   "metadata": {},
   "source": [
    "#### 2. Vetor de 10 números reais (ordem inversa)\n",
    "Faça um Programa que leia um vetor de 10 números reais e mostre-os na ordem inversa."
   ]
  },
  {
   "cell_type": "code",
   "execution_count": null,
   "id": "451deadf",
   "metadata": {},
   "outputs": [],
   "source": [
    "# Lógica aqui"
   ]
  },
  {
   "cell_type": "markdown",
   "id": "655f602b",
   "metadata": {},
   "source": [
    "#### 3. 4 Notas e Média\n",
    "Faça um Programa que leia 4 notas, mostre as notas e a média na tela."
   ]
  },
  {
   "cell_type": "code",
   "execution_count": null,
   "id": "2a9416a0",
   "metadata": {},
   "outputs": [],
   "source": [
    "# Lógica aqui"
   ]
  },
  {
   "cell_type": "markdown",
   "id": "ab71362b",
   "metadata": {},
   "source": [
    "#### 4. Vetor de 10 caracteres e Contagem de Consoantes\n",
    "Faça um Programa que leia um vetor de 10 caracteres, e diga quantas consoantes foram lidas. Imprima as consoantes."
   ]
  },
  {
   "cell_type": "code",
   "execution_count": null,
   "id": "85cc3517",
   "metadata": {},
   "outputs": [],
   "source": [
    "# Lógica aqui"
   ]
  },
  {
   "cell_type": "markdown",
   "id": "2fcd0bed",
   "metadata": {},
   "source": [
    "#### 5. Vetor com 20 números inteiros – Separar Pares e Ímpares\n",
    "Faça um Programa que leia 20 números inteiros e os armazene num vetor. Em seguida, armazene os números pares em um vetor `PAR` e os números ímpares em um vetor `IMPAR`. Imprima os três vetores."
   ]
  },
  {
   "cell_type": "code",
   "execution_count": null,
   "id": "66cdb685",
   "metadata": {},
   "outputs": [],
   "source": [
    "# Lógica aqui"
   ]
  },
  {
   "cell_type": "markdown",
   "id": "ee902363",
   "metadata": {},
   "source": [
    "#### 6. Média das notas de 10 alunos\n",
    "Faça um Programa que peça as quatro notas de 10 alunos, calcule e armazene num vetor a média de cada aluno, e imprima o número de alunos com média maior ou igual a 7.0."
   ]
  },
  {
   "cell_type": "code",
   "execution_count": null,
   "id": "75012ecc",
   "metadata": {},
   "outputs": [],
   "source": [
    "# Lógica aqui"
   ]
  },
  {
   "cell_type": "markdown",
   "id": "d9177c75",
   "metadata": {},
   "source": [
    "#### 7. Vetor de 5 números inteiros – Soma, Multiplicação e Exibição\n",
    "Faça um Programa que leia um vetor de 5 números inteiros, mostre a soma, a multiplicação e os números."
   ]
  },
  {
   "cell_type": "code",
   "execution_count": null,
   "id": "0520f293",
   "metadata": {},
   "outputs": [],
   "source": [
    "# Lógica aqui"
   ]
  },
  {
   "cell_type": "markdown",
   "id": "fec06feb",
   "metadata": {},
   "source": [
    "#### 8. Idade e Altura de 5 Pessoas (Ordem Inversa)\n",
    "Faça um Programa que peça a idade e a altura de 5 pessoas, armazenando cada informação em seu respectivo vetor. Em seguida, imprima as idades e alturas na ordem inversa à ordem lida."
   ]
  },
  {
   "cell_type": "code",
   "execution_count": null,
   "id": "18330596",
   "metadata": {},
   "outputs": [],
   "source": [
    "# Lógica aqui"
   ]
  },
  {
   "cell_type": "markdown",
   "id": "835abd46",
   "metadata": {},
   "source": [
    "#### 9. Soma dos Quadrados dos Elementos do Vetor\n",
    "Faça um Programa que leia um vetor A com 10 números inteiros, calcule e mostre a soma dos quadrados dos elementos do vetor."
   ]
  },
  {
   "cell_type": "code",
   "execution_count": null,
   "id": "f23ab600",
   "metadata": {},
   "outputs": [],
   "source": [
    "# Lógica aqui"
   ]
  },
  {
   "cell_type": "markdown",
   "id": "2e2e8e9e",
   "metadata": {},
   "source": [
    "#### 10. Vetores Intercalados (2 Vetores)\n",
    "Faça um Programa que leia dois vetores com 10 elementos cada e gere um terceiro vetor de 20 elementos, cujos valores sejam compostos pelos elementos intercalados dos dois vetores lidos."
   ]
  },
  {
   "cell_type": "code",
   "execution_count": null,
   "id": "e22bec7d",
   "metadata": {},
   "outputs": [],
   "source": [
    "# Lógica aqui"
   ]
  },
  {
   "cell_type": "markdown",
   "id": "094f3c3b",
   "metadata": {},
   "source": [
    "#### 11. Intercalar 3 Vetores\n",
    "Altere o programa anterior para intercalar 3 vetores de 10 elementos cada."
   ]
  },
  {
   "cell_type": "code",
   "execution_count": null,
   "id": "8c98532c",
   "metadata": {},
   "outputs": [],
   "source": [
    "# Lógica aqui"
   ]
  },
  {
   "cell_type": "markdown",
   "id": "5913abc1",
   "metadata": {},
   "source": [
    "#### 12. Altura e Idade de 30 Alunos\n",
    "Foram anotadas as idades e alturas de 30 alunos. Faça um Programa que determine quantos alunos com mais de 13 anos possuem altura inferior à média de altura dos alunos."
   ]
  },
  {
   "cell_type": "code",
   "execution_count": null,
   "id": "e6dd3bcb",
   "metadata": {},
   "outputs": [],
   "source": [
    "# Lógica aqui"
   ]
  },
  {
   "cell_type": "markdown",
   "id": "9f31e523",
   "metadata": {},
   "source": [
    "#### 13. Temperaturas Mensais e Média Anual\n",
    "Faça um programa que receba a temperatura média de cada mês do ano e as armazene em uma lista. Em seguida, calcule a média anual e mostre todas as temperaturas acima da média, indicando em que mês elas ocorreram (mostrar o mês por extenso: 1 – Janeiro, 2 – Fevereiro, etc.)."
   ]
  },
  {
   "cell_type": "code",
   "execution_count": null,
   "id": "9d06c687",
   "metadata": {},
   "outputs": [],
   "source": [
    "# Lógica aqui"
   ]
  },
  {
   "cell_type": "markdown",
   "id": "cf8ed3a9",
   "metadata": {},
   "source": [
    "#### 14. Enquete sobre Crime\n",
    "Utilizando listas, faça um programa que faça 5 perguntas para uma pessoa sobre um crime:\n",
    "- Telefonou para a vítima?\n",
    "- Esteve no local do crime?\n",
    "- Mora perto da vítima?\n",
    "- Devia para a vítima?\n",
    "- Já trabalhou com a vítima?\n",
    "\n",
    "Ao final, o programa deve emitir uma classificação:\n",
    "- 2 respostas positivas: **Suspeita**\n",
    "- 3 ou 4 respostas positivas: **Cúmplice**\n",
    "- 5 respostas positivas: **Assassino**\n",
    "- Caso contrário: **Inocente**"
   ]
  },
  {
   "cell_type": "code",
   "execution_count": null,
   "id": "83860b24",
   "metadata": {},
   "outputs": [],
   "source": [
    "# Lógica aqui"
   ]
  },
  {
   "cell_type": "markdown",
   "id": "05363a14",
   "metadata": {},
   "source": [
    "#### 15. Leitura de Notas com Valor -1 (Entrada Indeterminada)\n",
    "Faça um programa que leia um número indeterminado de valores (notas), encerrando a entrada quando for informado o valor -1 (não armazenar este valor). Após a entrada, faça:\n",
    "- Mostre a quantidade de valores lidos;\n",
    "- Exiba os valores na ordem em que foram informados (um ao lado do outro);\n",
    "- Exiba os valores na ordem inversa (um abaixo do outro);\n",
    "- Calcule e mostre a soma dos valores;\n",
    "- Calcule e mostre a média dos valores;\n",
    "- Mostre a quantidade de valores acima da média;\n",
    "- Mostre a quantidade de valores abaixo de sete;\n",
    "- Encerre o programa com uma mensagem."
   ]
  },
  {
   "cell_type": "code",
   "execution_count": null,
   "id": "1a910e37",
   "metadata": {},
   "outputs": [],
   "source": [
    "# Lógica aqui"
   ]
  },
  {
   "cell_type": "markdown",
   "id": "1c0c6b52",
   "metadata": {},
   "source": [
    "#### 16. Vendedores e Comissões\n",
    "Utilize uma lista para resolver o problema a seguir:\n",
    "Uma empresa paga seus vendedores com base em comissões. O vendedor recebe $200 por semana mais 9% de suas vendas brutas daquela semana. \n",
    "Escreva um programa (usando um array de contadores) que determine quantos vendedores receberam salários nos seguintes intervalos:\n",
    "- $200 - $299\n",
    "- $300 - $399\n",
    "- $400 - $499\n",
    "- $500 - $599\n",
    "- $600 - $699\n",
    "- $700 - $799\n",
    "- $800 - $899\n",
    "- $900 - $999\n",
    "- $1000 em diante\n",
    "\n",
    "Desafio: Crie uma fórmula para determinar a posição do contador a partir do salário, sem utilizar vários ifs aninhados."
   ]
  },
  {
   "cell_type": "code",
   "execution_count": null,
   "id": "da480c26",
   "metadata": {},
   "outputs": [],
   "source": [
    "# Lógica aqui"
   ]
  },
  {
   "cell_type": "markdown",
   "id": "9794a0aa",
   "metadata": {},
   "source": [
    "#### 17. Competição de Salto em Distância\n",
    "Em uma competição de salto em distância, cada atleta tem direito a cinco saltos. O resultado do atleta será a média dos saltos. \n",
    "Faça um programa que receba o nome e as cinco distâncias alcançadas pelo atleta e, ao final, informe:\n",
    "- O nome do atleta\n",
    "- Os saltos realizados\n",
    "- A média dos saltos\n",
    "\n",
    "O programa deve ser encerrado quando não for informado o nome do atleta.\n",
    "Exemplo de saída:\n",
    "Atleta: Rodrigo Curvêllo\n",
    "Primeiro Salto: 6.5 m\n",
    "Segundo Salto: 6.1 m\n",
    "Terceiro Salto: 6.2 m\n",
    "Quarto Salto: 5.4 m\n",
    "Quinto Salto: 5.3 m\n",
    "\n",
    "Resultado final:\n",
    "Atleta: Rodrigo Curvêllo\n",
    "Saltos: 6.5 - 6.1 - 6.2 - 5.4 - 5.3\n",
    "Média dos saltos: 5.9 m"
   ]
  },
  {
   "cell_type": "code",
   "execution_count": null,
   "id": "28e17e1d",
   "metadata": {},
   "outputs": [],
   "source": [
    "# Lógica aqui"
   ]
  },
  {
   "cell_type": "markdown",
   "id": "12b0015e",
   "metadata": {},
   "source": [
    "#### 18. Enquete do Melhor Jogador\n",
    "Uma grande emissora de televisão deseja saber qual o melhor jogador após cada jogo. Desenvolva um programa que:\n",
    "- Receba votos correspondentes ao número da camisa do jogador (de 1 a 23). O voto 0 encerra a votação.\n",
    "- Ignore votos inválidos (fora do intervalo 1 a 23), exibindo uma mensagem de aviso.\n",
    "- Ao final, exiba:\n",
    "  - O total de votos computados;\n",
    "  - Os números dos jogadores que receberam votos e a quantidade de votos de cada um;\n",
    "  - O percentual de votos de cada jogador;\n",
    "  - O número do jogador escolhido como o melhor (maior número de votos), juntamente com seus votos e percentual."
   ]
  },
  {
   "cell_type": "code",
   "execution_count": null,
   "id": "bff231dd",
   "metadata": {},
   "outputs": [],
   "source": [
    "# Lógica aqui"
   ]
  },
  {
   "cell_type": "markdown",
   "id": "89634f90",
   "metadata": {},
   "source": [
    "#### 19. Enquete: Melhor Sistema Operacional para Servidores\n",
    "Uma empresa de pesquisas realizou uma enquete com as seguintes opções:\n",
    "1 - Windows Server\n",
    "2 - Unix\n",
    "3 - Linux\n",
    "4 - Netware\n",
    "5 - Mac OS\n",
    "6 - Outro\n",
    "\n",
    "O programa deverá:\n",
    "- Ler os votos até ser informado o valor 0 (que encerra a entrada);\n",
    "- Não aceitar valores fora de 0 a 6;\n",
    "- Armazenar os votos em um vetor;\n",
    "- Calcular o percentual de votos para cada opção;\n",
    "- Exibir um relatório com a quantidade de votos e percentuais, informando o vencedor da enquete."
   ]
  },
  {
   "cell_type": "code",
   "execution_count": null,
   "id": "946f0a9a",
   "metadata": {},
   "outputs": [],
   "source": [
    "# Lógica aqui"
   ]
  },
  {
   "cell_type": "markdown",
   "id": "bfbbc3f9",
   "metadata": {},
   "source": [
    "#### 20. Projeção de Gastos com Abono\n",
    "As Organizações Tabajara decidiram dar um abono aos seus colaboradores. As regras são:\n",
    "- Cada funcionário recebe 20% do seu salário bruto de dezembro, com piso de R$100.\n",
    "- A entrada de salários é feita até que seja informado o valor 0.\n",
    "\n",
    "Após a entrada, exiba:\n",
    "- O salário e o valor do abono de cada funcionário;\n",
    "- O número total de funcionários processados;\n",
    "- O total gasto com os abonos;\n",
    "- A quantidade de funcionários que receberam o valor mínimo de R$100;\n",
    "- O maior valor de abono pago."
   ]
  },
  {
   "cell_type": "code",
   "execution_count": null,
   "id": "3ff6b771",
   "metadata": {},
   "outputs": [],
   "source": [
    "# Lógica aqui"
   ]
  },
  {
   "cell_type": "markdown",
   "id": "77e183df",
   "metadata": {},
   "source": [
    "#### 21. Consumo de Combustível de Carros\n",
    "Faça um programa que carregue duas listas:\n",
    "- Uma com os modelos de 5 carros (ex.: FUSCA, GOL, VECTRA, etc);\n",
    "- Outra com o consumo (km/l) de cada carro.\n",
    "\n",
    "Calcule e mostre:\n",
    "- O modelo do carro mais econômico;\n",
    "- Para cada carro, quantos litros de combustível serão necessários para percorrer 1000 km e o custo, considerando gasolina a R$2,25 por litro."
   ]
  },
  {
   "cell_type": "code",
   "execution_count": null,
   "id": "dce55fc1",
   "metadata": {},
   "outputs": [],
   "source": [
    "# Lógica aqui"
   ]
  },
  {
   "cell_type": "markdown",
   "id": "25580f5b",
   "metadata": {},
   "source": [
    "#### 22. Levantamento de Mouses\n",
    "Desenvolva um programa para registrar o levantamento dos mouses em um setor de informática. Para cada mouse, leia:\n",
    "- Número de identificação;\n",
    "- Tipo de defeito, onde:\n",
    "  1. Necessita da esfera;\n",
    "  2. Necessita de limpeza;\n",
    "  3. Necessita troca do cabo ou conector;\n",
    "  4. Quebrado ou inutilizado.\n",
    "\n",
    "A entrada termina quando o número de identificação for 0. Ao final, exiba:\n",
    "- A quantidade total de mouses;\n",
    "- A quantidade e o percentual de cada tipo de defeito."
   ]
  },
  {
   "cell_type": "code",
   "execution_count": null,
   "id": "27c7d533",
   "metadata": {},
   "outputs": [],
   "source": [
    "# Lógica aqui"
   ]
  },
  {
   "cell_type": "markdown",
   "id": "d8f56285",
   "metadata": {},
   "source": [
    "#### 23. Relatório de Uso de Espaço em Disco\n",
    "A ACME Inc. possui um arquivo chamado `usuarios.txt` com os dados dos usuários e o espaço ocupado em bytes. Cada linha contém o nome (15 caracteres) e o espaço ocupado.\n",
    "\n",
    "Desenvolva um programa que:\n",
    "- Leia o arquivo e armazene os dados;\n",
    "- Converta o espaço de bytes para megabytes (utilizando uma função separada);\n",
    "- Calcule o percentual de uso de cada usuário (utilizando outra função);\n",
    "- Gere um relatório (`relatório.txt`) no formato abaixo:\n",
    "\n",
    "```\n",
    "ACME Inc.               Uso do espaço em disco pelos usuários\n",
    "------------------------------------------------------------------------\n",
    "Nr.  Usuário        Espaço utilizado     % do uso\n",
    "\n",
    "1    alexandre       434,99 MB             16,85%\n",
    "2    anderson       1187,99 MB            46,02%\n",
    "...\n",
    "------------------------------------------------------------------------\n",
    "Espaço total ocupado: 2581,57 MB\n",
    "Espaço médio ocupado: 430,26 MB\n",
    "```"
   ]
  },
  {
   "cell_type": "code",
   "execution_count": null,
   "id": "4fb2794a",
   "metadata": {},
   "outputs": [],
   "source": [
    "# Lógica aqui"
   ]
  },
  {
   "cell_type": "markdown",
   "id": "85647723",
   "metadata": {},
   "source": [
    "#### 24. Simulação de Lançamento de Dados\n",
    "Faça um programa que simule 100 lançamentos de um dado. Armazene os resultados em um vetor e, ao final, mostre quantas vezes cada valor (de 1 a 6) foi obtido. \n",
    "Dica: Utilize um vetor de contadores e uma função para gerar números aleatórios."
   ]
  },
  {
   "cell_type": "code",
   "execution_count": null,
   "id": "8732ea14",
   "metadata": {},
   "outputs": [],
   "source": [
    "# Lógica aqui"
   ]
  }
 ],
 "metadata": {
  "kernelspec": {
   "display_name": "Python 3",
   "language": "python",
   "name": "python3"
  },
  "language_info": {
   "file_extension": ".py",
   "mimetype": "text/x-python",
   "name": "python",
   "version": "3.x"
  }
 },
 "nbformat": 4,
 "nbformat_minor": 5
}
