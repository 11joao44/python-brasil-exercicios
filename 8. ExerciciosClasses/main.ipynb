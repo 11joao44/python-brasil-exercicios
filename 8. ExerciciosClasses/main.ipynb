{
 "cells": [
  {
   "cell_type": "markdown",
   "id": "69f5562b",
   "metadata": {},
   "source": [
    "# Exercícios com Classes"
   ]
  },
  {
   "cell_type": "markdown",
   "id": "8c0eb72d",
   "metadata": {},
   "source": [
    "#### 1. Classe Bola\n",
    "Crie uma classe que modele uma bola.\n",
    "\n",
    "**Atributos:**\n",
    "- Cor\n",
    "- Circunferência\n",
    "- Material\n",
    "\n",
    "**Métodos:**\n",
    "- `trocaCor`: altera a cor da bola\n",
    "- `mostraCor`: exibe a cor atual da bola"
   ]
  },
  {
   "cell_type": "code",
   "execution_count": null,
   "id": "f09e3556",
   "metadata": {},
   "outputs": [],
   "source": [
    "# Lógica aqui"
   ]
  },
  {
   "cell_type": "markdown",
   "id": "8457a28d",
   "metadata": {},
   "source": [
    "#### 2. Classe Quadrado\n",
    "Crie uma classe que modele um quadrado.\n",
    "\n",
    "**Atributos:**\n",
    "- Tamanho do lado\n",
    "\n",
    "**Métodos:**\n",
    "- Mudar valor do lado\n",
    "- Retornar valor do lado\n",
    "- Calcular área"
   ]
  },
  {
   "cell_type": "code",
   "execution_count": null,
   "id": "4ddcda18",
   "metadata": {},
   "outputs": [],
   "source": [
    "# Lógica aqui"
   ]
  },
  {
   "cell_type": "markdown",
   "id": "3cf64eea",
   "metadata": {},
   "source": [
    "#### 3. Classe Retângulo\n",
    "Crie uma classe que modele um retângulo.\n",
    "\n",
    "**Atributos:**\n",
    "- LadoA e LadoB (ou Comprimento e Largura, ou Base e Altura – à sua escolha)\n",
    "\n",
    "**Métodos:**\n",
    "- Mudar valor dos lados\n",
    "- Retornar valor dos lados\n",
    "- Calcular área\n",
    "- Calcular perímetro\n",
    "\n",
    "Crie um programa que utilize esta classe. O programa deve pedir ao usuário as medidas de um local, criar um objeto com estas medidas e calcular a quantidade de pisos e de rodapés necessários para o local."
   ]
  },
  {
   "cell_type": "code",
   "execution_count": null,
   "id": "47d193fd",
   "metadata": {},
   "outputs": [],
   "source": [
    "# Lógica aqui"
   ]
  },
  {
   "cell_type": "markdown",
   "id": "56e58ad4",
   "metadata": {},
   "source": [
    "#### 4. Classe Pessoa\n",
    "Crie uma classe que modele uma pessoa.\n",
    "\n",
    "**Atributos:**\n",
    "- Nome\n",
    "- Idade\n",
    "- Peso\n",
    "- Altura\n",
    "\n",
    "**Métodos:**\n",
    "- Envelhecer\n",
    "- Engordar\n",
    "- Emagrecer\n",
    "- Crescer\n",
    "\n",
    "Obs.: A cada ano que a pessoa envelhece, se ela tiver menos de 21 anos, deve crescer 0,5 cm."
   ]
  },
  {
   "cell_type": "code",
   "execution_count": null,
   "id": "d170df06",
   "metadata": {},
   "outputs": [],
   "source": [
    "# Lógica aqui"
   ]
  },
  {
   "cell_type": "markdown",
   "id": "6fbb5128",
   "metadata": {},
   "source": [
    "#### 5. Classe Conta Corrente\n",
    "Crie uma classe para implementar uma conta corrente.\n",
    "\n",
    "**Atributos:**\n",
    "- Número da conta\n",
    "- Nome do correntista\n",
    "- Saldo (default = 0 no construtor, se não informado)\n",
    "\n",
    "**Métodos:**\n",
    "- Alterar nome\n",
    "- Depósito\n",
    "- Saque"
   ]
  },
  {
   "cell_type": "code",
   "execution_count": null,
   "id": "82127f1f",
   "metadata": {},
   "outputs": [],
   "source": [
    "# Lógica aqui"
   ]
  },
  {
   "cell_type": "markdown",
   "id": "fa3cbb71",
   "metadata": {},
   "source": [
    "#### 6. Classe TV\n",
    "Faça um programa que simule um televisor através de uma classe.\n",
    "\n",
    "O usuário deve ser capaz de informar o número do canal e aumentar ou diminuir o volume. Certifique-se de que os valores do canal e do volume permaneçam dentro de faixas válidas."
   ]
  },
  {
   "cell_type": "code",
   "execution_count": null,
   "id": "07ccd1bb",
   "metadata": {},
   "outputs": [],
   "source": [
    "# Lógica aqui"
   ]
  },
  {
   "cell_type": "markdown",
   "id": "f6c4a7da",
   "metadata": {},
   "source": [
    "#### 7. Classe Bichinho Virtual\n",
    "Crie uma classe que modele um Tamagushi (Bichinho Eletrônico).\n",
    "\n",
    "**Atributos:**\n",
    "- Nome\n",
    "- Fome\n",
    "- Saúde\n",
    "- Idade\n",
    "\n",
    "**Métodos:**\n",
    "- Alterar os valores dos atributos (nome, fome, saúde e idade)\n",
    "- Retornar os valores dos atributos\n",
    "\n",
    "Obs.: O humor do bichinho é um campo calculado a partir da combinação de Fome e Saúde; portanto, não crie um atributo para armazená-lo."
   ]
  },
  {
   "cell_type": "code",
   "execution_count": null,
   "id": "a2bfe78c",
   "metadata": {},
   "outputs": [],
   "source": [
    "# Lógica aqui"
   ]
  },
  {
   "cell_type": "markdown",
   "id": "36c5cba4",
   "metadata": {},
   "source": [
    "#### 8. Classe Macaco\n",
    "Desenvolva uma classe **Macaco** que possua os atributos:\n",
    "- Nome\n",
    "- Bucho (estômago)\n",
    "\n",
    "E os seguintes métodos:\n",
    "- `comer()`: para adicionar alimento ao bucho\n",
    "- `verBucho()`: para exibir o conteúdo do bucho\n",
    "- `digerir()`: para processar o alimento\n",
    "\n",
    "Crie um programa (ou teste interativamente) que:\n",
    "- Instancie pelo menos dois macacos\n",
    "- Alimente-os com pelo menos 3 alimentos diferentes\n",
    "- Verifique o conteúdo do estômago a cada refeição\n",
    "- Experimente fazer com que um macaco coma o outro (é possível criar um macaco canibal?)"
   ]
  },
  {
   "cell_type": "code",
   "execution_count": null,
   "id": "9f8a5586",
   "metadata": {},
   "outputs": [],
   "source": [
    "# Lógica aqui"
   ]
  },
  {
   "cell_type": "markdown",
   "id": "b680c71b",
   "metadata": {},
   "source": [
    "#### 9. Classe Ponto e Retângulo\n",
    "Desenvolva um programa completo utilizando funções e classes que possua:\n",
    "\n",
    "- Uma classe `Ponto`, com os atributos `x` e `y`.\n",
    "- Uma classe `Retangulo`, com os atributos `largura` e `altura`.\n",
    "\n",
    "Além disso, implemente:\n",
    "- Uma função para imprimir os valores de um objeto da classe `Ponto`.\n",
    "- Uma função para encontrar o centro de um retângulo. Para isto, considere que cada retângulo possui um vértice de partida (por exemplo, o inferior esquerdo, que deve ser um objeto `Ponto`). A função deve retornar um objeto `Ponto` representando o centro.\n",
    "\n",
    "Crie um menu que permita alterar os valores do retângulo e imprimir o centro deste retângulo."
   ]
  },
  {
   "cell_type": "code",
   "execution_count": null,
   "id": "74397936",
   "metadata": {},
   "outputs": [],
   "source": [
    "# Lógica aqui"
   ]
  },
  {
   "cell_type": "markdown",
   "id": "1365be4d",
   "metadata": {},
   "source": [
    "#### 10. Classe Bomba de Combustível\n",
    "Crie uma classe chamada `BombaCombustivel` com os seguintes atributos:\n",
    "- `tipoCombustivel`\n",
    "- `valorLitro`\n",
    "- `quantidadeCombustivel`\n",
    "\n",
    "Implemente os métodos:\n",
    "- `abastecerPorValor()`: recebe um valor em dinheiro e informa a quantidade de litros abastecidos\n",
    "- `abastecerPorLitro()`: recebe a quantidade em litros e informa o valor a ser pago\n",
    "- `alterarValor()`: altera o valor do litro\n",
    "- `alterarCombustivel()`: altera o tipo de combustível\n",
    "- `alterarQuantidadeCombustivel()`: altera a quantidade de combustível na bomba\n",
    "\n",
    "Obs.: Sempre que ocorrer um abastecimento, atualize a quantidade de combustível disponível."
   ]
  },
  {
   "cell_type": "code",
   "execution_count": null,
   "id": "38673fea",
   "metadata": {},
   "outputs": [],
   "source": [
    "# Lógica aqui"
   ]
  },
  {
   "cell_type": "markdown",
   "id": "bf4d3be1",
   "metadata": {},
   "source": [
    "#### 11. Classe Carro\n",
    "Implemente uma classe chamada `Carro` com as seguintes características:\n",
    "\n",
    "- Um veículo tem um consumo de combustível (km/l) e uma quantidade de combustível no tanque.\n",
    "- O consumo é especificado no construtor e o nível inicial de combustível é 0.\n",
    "\n",
    "Implemente os métodos:\n",
    "- `adicionarGasolina()`: para abastecer o tanque\n",
    "- `andar()`: simula o veículo percorrendo uma distância, diminuindo o combustível\n",
    "- `obterGasolina()`: retorna o nível atual de combustível\n",
    "\n",
    "Exemplo de uso:\n",
    "```python\n",
    "meuFusca = Carro(15)           # 15 km/l\n",
    "meuFusca.adicionarGasolina(20)  # abastece com 20 litros\n",
    "meuFusca.andar(100)             # anda 100 km\n",
    "print(meuFusca.obterGasolina()) # exibe o combustível restante\n",
    "```"
   ]
  },
  {
   "cell_type": "code",
   "execution_count": null,
   "id": "67c9d04c",
   "metadata": {},
   "outputs": [],
   "source": [
    "# Lógica aqui"
   ]
  },
  {
   "cell_type": "markdown",
   "id": "6d8783bf",
   "metadata": {},
   "source": [
    "#### 12. Classe Conta de Investimento\n",
    "Crie uma classe `ContaInvestimento` semelhante à conta bancária, com o acréscimo do atributo `taxaJuros`.\n",
    "\n",
    "Implemente:\n",
    "- Um construtor que configure o saldo inicial e a taxa de juros\n",
    "- O método `adicioneJuros()`, que adiciona juros ao saldo (sem parâmetro explícito)\n",
    "\n",
    "Escreva um programa que:\n",
    "- Crie uma poupança com saldo inicial de R$1000,00 e taxa de juros de 10%\n",
    "- Aplique o método `adicioneJuros()` cinco vezes\n",
    "- Imprima o saldo final"
   ]
  },
  {
   "cell_type": "code",
   "execution_count": null,
   "id": "22756abc",
   "metadata": {},
   "outputs": [],
   "source": [
    "# Lógica aqui"
   ]
  },
  {
   "cell_type": "markdown",
   "id": "6b41c176",
   "metadata": {},
   "source": [
    "#### 13. Classe Funcionário\n",
    "Implemente a classe `Funcionario` com os seguintes atributos:\n",
    "- Nome (string)\n",
    "- Salário (double ou float)\n",
    "\n",
    "Implemente:\n",
    "- Um construtor que receba nome e salário\n",
    "- Métodos para retornar o nome e o salário\n",
    "\n",
    "Aprimore a classe adicionando o método `aumentarSalario(porcentualDeAumento)`, que aumenta o salário em uma certa porcentagem.\n",
    "\n",
    "Exemplo de uso:\n",
    "```python\n",
    "harry = Funcionario(\"Harry\", 25000)\n",
    "harry.aumentarSalario(10)\n",
    "```"
   ]
  },
  {
   "cell_type": "code",
   "execution_count": null,
   "id": "5a232695",
   "metadata": {},
   "outputs": [],
   "source": [
    "# Lógica aqui"
   ]
  },
  {
   "cell_type": "markdown",
   "id": "e90ef03c",
   "metadata": {},
   "source": [
    "#### 14. Classe Bichinho Virtual++\n",
    "Melhore o programa do bichinho virtual, permitindo que o usuário informe:\n",
    "- Quanto de comida fornecer ao bichinho\n",
    "- Por quanto tempo brincar com o bichinho\n",
    "\n",
    "Esses valores devem afetar a rapidez com que os níveis de fome e tédio diminuem.\n",
    "\n",
    "Adicionalmente, crie uma \"porta escondida\" no programa que mostre os valores exatos dos atributos do objeto. Para isso, implemente o método especial `__str__` na classe.\n",
    "\n",
    "Por fim, crie uma **Fazenda de Bichinhos**: instancie vários objetos do bichinho e mantenha o controle deles através de uma lista. O menu do programa deve permitir que o usuário execute ações para todos os bichinhos (alimentar, brincar ou ouvir todos). Cada bichinho pode iniciar com níveis aleatórios de fome e tédio."
   ]
  },
  {
   "cell_type": "code",
   "execution_count": null,
   "id": "35add901",
   "metadata": {},
   "outputs": [],
   "source": [
    "# Lógica aqui"
   ]
  }
 ],
 "metadata": {
  "kernelspec": {
   "display_name": "Python 3",
   "language": "python",
   "name": "python3"
  },
  "language_info": {
   "file_extension": ".py",
   "mimetype": "text/x-python",
   "name": "python",
   "version": "3.x"
  }
 },
 "nbformat": 4,
 "nbformat_minor": 5
}
