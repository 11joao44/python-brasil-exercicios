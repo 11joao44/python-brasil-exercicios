{
 "cells": [
  {
   "cell_type": "markdown",
   "metadata": {},
   "source": [
    "# Lista De Exercicios Projetos"
   ]
  },
  {
   "cell_type": "markdown",
   "metadata": {},
   "source": [
    "#### 1. Controle de cotas de disco.\n",
    "\n",
    " A ACME Inc., uma organização com mais de 1500 funcionários, está tendo problemas de espaço em disco no seu servidor de arquivos. Para tentar resolver este problema, o Administrador de Rede precisa saber qual o espaço em disco ocupado pelas contas dos usuários, e identificar os usuários com maior espaço ocupado. Através de um aplicativo baixado da Internet, ele conseguiu gerar o seguinte arquivo, chamado usuarios.txt:\n",
    "\n",
    " ```cmd\n",
    "alexandre       456123789\n",
    "anderson        1245698456\n",
    "antonio         123456456\n",
    "carlos          91257581\n",
    "cesar           987458\n",
    "rosemary        789456125\n",
    "```\n",
    "Neste arquivo, o primeiro campo corresponde ao login do usuário e o segundo ao espaço em disco ocupado pelo seu diretório home. A partir deste arquivo, você deve criar um programa que gere um relatório, chamado relatório.txt, no seguinte formato:\n",
    "```cmd\n",
    "ACME Inc.        Uso do espaço em disco pelos usuários\n",
    "\n",
    "Espaço total ocupado: 2581,57 MB\n",
    "Espaço médio ocupado: 430,26 MB\n",
    "```\n",
    "\n",
    "Nr. | Usuário    |    Espaço utilizado  |   % do uso |\n",
    "----|------------|----------------------|------------|\n",
    "1   | alexandre  |     434,99 MB        | 16,85%     |\n",
    "2   | anderson   |   1187,99 MB         | 46,02%     |\n",
    "3   | antonio    |     117,73 MB        | 4,56%      |\n",
    "4   | carlos     |      87,03 MB        | 3,37%      |\n",
    "5   | cesar      |       0,94 MB        | 0,04%      |\n",
    "6   | rosemary   |     752,88 MB        | 29,16%     |\n",
    "\n",
    "O arquivo de entrada deve ser lido uma única vez, e os dados armazenados em memória, caso sejam necessários, de forma a agilizar a execução do programa. A conversão da espaço ocupado em disco, de bytes para megabytes deverá ser feita através de uma função separada, que será chamada pelo programa principal. O cálculo do percentual de uso também deverá ser feito através de uma função, que será chamada pelo programa principal.\n",
    "Recursos adicionais: opcionalmente, desenvolva as seguintes funcionalidades:\n",
    "\n",
    "- Ordenar os usuários pelo percentual de espaço ocupado;\n",
    "- Mostrar apenas os n primeiros em uso, definido pelo usuário;\n",
    "- Gerar a saída numa página html;\n",
    "- Criar o programa que lê as pastas e gera o arquivo inicial;"
   ]
  },
  {
   "cell_type": "code",
   "execution_count": null,
   "metadata": {
    "vscode": {
     "languageId": "plaintext"
    }
   },
   "outputs": [],
   "source": [
    "# Código aqui"
   ]
  },
  {
   "cell_type": "markdown",
   "metadata": {},
   "source": [
    "#### 2. Analisador de logs do Apache. \n",
    "Desenvolva um analisador de log do Apache que mostre quais as strings de pesquisa do google que mais levam internautas para o site da sua organização."
   ]
  },
  {
   "cell_type": "code",
   "execution_count": null,
   "metadata": {
    "vscode": {
     "languageId": "plaintext"
    }
   },
   "outputs": [],
   "source": [
    "# Código aqui"
   ]
  },
  {
   "cell_type": "markdown",
   "metadata": {},
   "source": [
    "#### 3. Analisador de logs do Squid: sites bloqueados. \n",
    "Desenvolva um analisador de log do Squid que mostre quais os sites mais bloqueados em uma organização."
   ]
  },
  {
   "cell_type": "code",
   "execution_count": null,
   "metadata": {
    "vscode": {
     "languageId": "plaintext"
    }
   },
   "outputs": [],
   "source": [
    "# Código aqui"
   ]
  }
 ],
 "metadata": {
  "language_info": {
   "name": "python"
  }
 },
 "nbformat": 4,
 "nbformat_minor": 2
}
